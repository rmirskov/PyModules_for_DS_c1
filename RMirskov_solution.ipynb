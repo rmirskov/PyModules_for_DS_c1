{
 "cells": [
  {
   "cell_type": "markdown",
   "id": "israeli-license",
   "metadata": {
    "id": "israeli-license"
   },
   "source": [
    "# **Курсовой проект для курса \"Python для Data Science\" (построение модели для предсказания цен на недвижимость (квартиры))**"
   ]
  },
  {
   "cell_type": "markdown",
   "id": "-CMC3LO2-3Le",
   "metadata": {
    "id": "-CMC3LO2-3Le"
   },
   "source": [
    "<code>[Ссылка на профиль Kaggle.com][1]\n",
    "\n",
    "[1]: https://www.kaggle.com/romanmirrus \n",
    "</code>"
   ]
  },
  {
   "cell_type": "code",
   "execution_count": 1,
   "id": "0_dVLEAgld5A",
   "metadata": {
    "id": "0_dVLEAgld5A"
   },
   "outputs": [],
   "source": [
    "import numpy as np\n",
    "import pandas as pd\n",
    "from matplotlib import pyplot as plt\n",
    "from scipy.stats import mode\n",
    "import seaborn as sns\n",
    "\n",
    "from sklearn.model_selection import train_test_split, cross_val_score\n",
    "from sklearn.preprocessing import RobustScaler\n",
    "from sklearn.ensemble import GradientBoostingRegressor\n",
    "from sklearn.metrics import r2_score as r2\n",
    "from sklearn.model_selection import KFold, GridSearchCV\n",
    "\n",
    "%matplotlib inline"
   ]
  },
  {
   "cell_type": "markdown",
   "id": "X4wC1mb5MquV",
   "metadata": {
    "id": "X4wC1mb5MquV"
   },
   "source": [
    "## **1. Загрузка данных**"
   ]
  },
  {
   "cell_type": "markdown",
   "id": "kiW7nrPcNZBs",
   "metadata": {
    "id": "kiW7nrPcNZBs"
   },
   "source": [
    "**Задание:**  \n",
    "Используя данные из обучающего датасета (train.csv), построить модель для предсказания цен на недвижимость (квартиры).\n",
    "С помощью полученной модели, предсказать цены для квартир из тестового датасета (test.csv).  \n",
    "**Целевая переменная:**  \n",
    "Price  \n",
    "**Метрика качества:**  \n",
    "R2 - коэффициент детерминации (sklearn.metrics.r2_score)  \n",
    "**Описание датасета:**  \n",
    "* **Id** - идентификационный номер квартиры\n",
    "* **DistrictId** - идентификационный номер района\n",
    "* **Rooms** - количество комнат\n",
    "* **Square** - площадь\n",
    "* **LifeSquare** - жилая площадь\n",
    "* **KitchenSquare** - площадь кухни\n",
    "* **Floor** - этаж\n",
    "* **HouseFloor** - количество этажей в доме\n",
    "* **HouseYear** - год постройки дома\n",
    "* **Ecology_1, Ecology_2, Ecology_3** - экологические показатели местности\n",
    "* **Social_1, Social_2, Social_3** - социальные показатели местности\n",
    "* **Healthcare_1, Helthcare_2** - показатели местности, связанные с охраной здоровья\n",
    "* **Shops_1, Shops_2** - показатели, связанные с наличием магазинов, торговых центров\n",
    "* **Price** - цена квартиры"
   ]
  },
  {
   "cell_type": "code",
   "execution_count": 2,
   "id": "xYeIbKsVgjnT",
   "metadata": {
    "id": "xYeIbKsVgjnT"
   },
   "outputs": [],
   "source": [
    "TRAIN_DATASET_PATH = 'train.csv'\n",
    "TEST_DATASET_PATH = 'test.csv'"
   ]
  },
  {
   "cell_type": "code",
   "execution_count": 3,
   "id": "x_H6_frolv_O",
   "metadata": {
    "id": "x_H6_frolv_O"
   },
   "outputs": [],
   "source": [
    "data_train = pd.read_csv(TRAIN_DATASET_PATH)\n",
    "data_test = pd.read_csv(TEST_DATASET_PATH)"
   ]
  },
  {
   "cell_type": "code",
   "execution_count": 4,
   "id": "63CauDUCmZ2G",
   "metadata": {
    "colab": {
     "base_uri": "https://localhost:8080/"
    },
    "id": "63CauDUCmZ2G",
    "outputId": "9b75e3a6-55e0-4128-a2bb-68b7c04bbe4f"
   },
   "outputs": [
    {
     "name": "stdout",
     "output_type": "stream",
     "text": [
      "Количество дублирующих записей в тренировочном наборе равно 0.\n",
      "Количество дублирующих записей в тестовом наборе равно 0.\n"
     ]
    }
   ],
   "source": [
    "print(f'Количество дублирующих записей в тренировочном наборе равно {data_train[data_train.duplicated()].size}.')\n",
    "print(f'Количество дублирующих записей в тестовом наборе равно {data_test[data_test.duplicated()].size}.')"
   ]
  },
  {
   "cell_type": "markdown",
   "id": "s5Ht_10Jiuzt",
   "metadata": {
    "id": "s5Ht_10Jiuzt"
   },
   "source": [
    "Оптимизацию памяти, используемой наборами данных, осуществляем при помощи функции *optimize_memory*."
   ]
  },
  {
   "cell_type": "code",
   "execution_count": 5,
   "id": "1JO_S-kBlnHv",
   "metadata": {
    "id": "1JO_S-kBlnHv"
   },
   "outputs": [],
   "source": [
    "def optimize_memory(df):\n",
    "    '''\n",
    "    Optimization of the memory used by the dataset\n",
    "    '''\n",
    "    start_mem = df.memory_usage().sum() / 1024 ** 2\n",
    "    print('Memory usage of dataframe is {:.2f} MB'.format(start_mem))\n",
    "\n",
    "    if isinstance(df, pd.DataFrame):\n",
    "        for col in df.columns:\n",
    "            col_type = str(df[col].dtype)\n",
    "            col_min = df[col].min()\n",
    "            col_max = df[col].max()\n",
    "            if 'int' in col_type:\n",
    "                if col_min < 0:\n",
    "                    if col_min >= np.iinfo(np.int8).min and col_max <= np.iinfo(np.int8).max:\n",
    "                        df[col] = df[col].astype(np.int8)\n",
    "                    elif col_min >= np.iinfo(np.int16).min and col_max <= np.iinfo(np.int16).max:\n",
    "                        df[col] = df[col].astype(np.int16)\n",
    "                    elif col_min >= np.iinfo(np.int32).min and col_max <= np.iinfo(np.int32).max:\n",
    "                        df[col] = df[col].astype(np.int32)\n",
    "                else:\n",
    "                    if col_min >= 0 and col_max <= np.iinfo(np.uint8).max:\n",
    "                        df[col] = df[col].astype(np.uint8)\n",
    "                    elif col_min >= 0 and col_max <= np.iinfo(np.uint16).max:\n",
    "                        df[col] = df[col].astype(np.uint16)\n",
    "                    elif col_min >= 0 and col_max <= np.iinfo(np.uint32).max:\n",
    "                        df[col] = df[col].astype(np.uint32)\n",
    "            elif 'float' in col_type:\n",
    "                if col_min >= np.finfo(np.float16).min and col_max <= np.finfo(np.float16).max:\n",
    "                    df[col] = df[col].astype(np.float16)\n",
    "                elif col_min >= np.finfo(np.float32).min and col_max <= np.finfo(np.float32).max:\n",
    "                    df[col] = df[col].astype(np.float32)\n",
    "            elif 'object' in col_type:\n",
    "                df[col] = df[col].astype('category')\n",
    "\n",
    "    end_mem = df.memory_usage().sum() / 1024**2\n",
    "    print('Memory usage after optimization is: {:.2f} MB'.format(end_mem))\n",
    "    print('Decreased by {:.1f}%'.format(100 * (start_mem - end_mem) / start_mem))"
   ]
  },
  {
   "cell_type": "code",
   "execution_count": 6,
   "id": "iyZaKQ9yurj4",
   "metadata": {
    "colab": {
     "base_uri": "https://localhost:8080/"
    },
    "id": "iyZaKQ9yurj4",
    "outputId": "aa9d6af7-825a-4c96-ce78-07c4ac773147"
   },
   "outputs": [
    {
     "name": "stdout",
     "output_type": "stream",
     "text": [
      "Memory usage of dataframe is 1.53 MB\n",
      "Memory usage after optimization is: 0.33 MB\n",
      "Decreased by 78.1%\n",
      "Memory usage of dataframe is 0.72 MB\n",
      "Memory usage after optimization is: 0.14 MB\n",
      "Decreased by 80.9%\n"
     ]
    }
   ],
   "source": [
    "optimize_memory(data_train)\n",
    "optimize_memory(data_test)"
   ]
  },
  {
   "cell_type": "code",
   "execution_count": 7,
   "id": "dmq10Bse2C-7",
   "metadata": {
    "colab": {
     "base_uri": "https://localhost:8080/"
    },
    "id": "dmq10Bse2C-7",
    "outputId": "2bde583b-d6a7-4e5f-a703-cc40371c32c6"
   },
   "outputs": [
    {
     "name": "stdout",
     "output_type": "stream",
     "text": [
      "<class 'pandas.core.frame.DataFrame'>\n",
      "RangeIndex: 10000 entries, 0 to 9999\n",
      "Data columns (total 20 columns):\n",
      " #   Column         Non-Null Count  Dtype   \n",
      "---  ------         --------------  -----   \n",
      " 0   Id             10000 non-null  uint16  \n",
      " 1   DistrictId     10000 non-null  uint8   \n",
      " 2   Rooms          10000 non-null  float16 \n",
      " 3   Square         10000 non-null  float16 \n",
      " 4   LifeSquare     7887 non-null   float16 \n",
      " 5   KitchenSquare  10000 non-null  float16 \n",
      " 6   Floor          10000 non-null  uint8   \n",
      " 7   HouseFloor     10000 non-null  float16 \n",
      " 8   HouseYear      10000 non-null  uint32  \n",
      " 9   Ecology_1      10000 non-null  float16 \n",
      " 10  Ecology_2      10000 non-null  category\n",
      " 11  Ecology_3      10000 non-null  category\n",
      " 12  Social_1       10000 non-null  uint8   \n",
      " 13  Social_2       10000 non-null  uint16  \n",
      " 14  Social_3       10000 non-null  uint8   \n",
      " 15  Healthcare_1   5202 non-null   float16 \n",
      " 16  Helthcare_2    10000 non-null  uint8   \n",
      " 17  Shops_1        10000 non-null  uint8   \n",
      " 18  Shops_2        10000 non-null  category\n",
      " 19  Price          10000 non-null  float32 \n",
      "dtypes: category(3), float16(7), float32(1), uint16(2), uint32(1), uint8(6)\n",
      "memory usage: 342.2 KB\n"
     ]
    }
   ],
   "source": [
    "data_train.info()"
   ]
  },
  {
   "cell_type": "markdown",
   "id": "L2tU3l96jtwG",
   "metadata": {
    "id": "L2tU3l96jtwG"
   },
   "source": [
    "## **2. Обработка данных**"
   ]
  },
  {
   "cell_type": "markdown",
   "id": "Evy4STrQwArH",
   "metadata": {
    "id": "Evy4STrQwArH"
   },
   "source": [
    "**Обработка признака *HouseYear*.**"
   ]
  },
  {
   "cell_type": "code",
   "execution_count": 8,
   "id": "ixcSjq5qwIFB",
   "metadata": {
    "colab": {
     "base_uri": "https://localhost:8080/"
    },
    "id": "ixcSjq5qwIFB",
    "outputId": "77398a3b-ef49-4a94-f4b9-a4d070913b89"
   },
   "outputs": [
    {
     "data": {
      "text/plain": [
       "count    1.000000e+04\n",
       "mean     3.990166e+03\n",
       "std      2.005003e+05\n",
       "min      1.910000e+03\n",
       "25%      1.974000e+03\n",
       "50%      1.977000e+03\n",
       "75%      2.001000e+03\n",
       "max      2.005201e+07\n",
       "Name: HouseYear, dtype: float64"
      ]
     },
     "execution_count": 8,
     "metadata": {},
     "output_type": "execute_result"
    }
   ],
   "source": [
    "data_train['HouseYear'].describe()"
   ]
  },
  {
   "cell_type": "markdown",
   "id": "rRIqK9Z5wk7C",
   "metadata": {
    "id": "rRIqK9Z5wk7C"
   },
   "source": [
    "Из описания признака *HouseYear* видим, что в тренировочном наборе данных по данному признаку присутствуют значения, превышающие 2020. Определим, сколько таких значений в обоих наборах данных."
   ]
  },
  {
   "cell_type": "code",
   "execution_count": 86,
   "id": "mARJHhOExjQ-",
   "metadata": {
    "colab": {
     "base_uri": "https://localhost:8080/"
    },
    "id": "mARJHhOExjQ-",
    "outputId": "09ec52b0-ea84-4027-ef12-b01b8bc0610c"
   },
   "outputs": [
    {
     "name": "stdout",
     "output_type": "stream",
     "text": [
      "Количество значений признака HouseYear, превышающих 2020, в тренировочном наборе равно 0.\n",
      "Количество значений признака HouseYear, превышающих 2020, в тестовом наборе равно 0.\n"
     ]
    }
   ],
   "source": [
    "print(\n",
    "    \"Количество значений признака HouseYear, превышающих 2020, в тренировочном наборе равно\",\n",
    "    f\"{len(data_train[data_train['HouseYear'] > 2020])}.\"\n",
    "    )\n",
    "print(\n",
    "    \"Количество значений признака HouseYear, превышающих 2020, в тестовом наборе равно\",\n",
    "    f\"{len(data_test[data_test['HouseYear'] > 2020])}.\"\n",
    "    )"
   ]
  },
  {
   "cell_type": "markdown",
   "id": "88VLQX-QypMl",
   "metadata": {
    "id": "88VLQX-QypMl"
   },
   "source": [
    "Так как некорректных значений всего 2, обработаем их вручную. Выведем эти значения."
   ]
  },
  {
   "cell_type": "code",
   "execution_count": 10,
   "id": "UfTdr4mXwUqR",
   "metadata": {
    "colab": {
     "base_uri": "https://localhost:8080/",
     "height": 112
    },
    "id": "UfTdr4mXwUqR",
    "outputId": "a7ec71e0-eb92-4c78-f35c-2adfe093b546"
   },
   "outputs": [
    {
     "data": {
      "text/html": [
       "<div>\n",
       "<style scoped>\n",
       "    .dataframe tbody tr th:only-of-type {\n",
       "        vertical-align: middle;\n",
       "    }\n",
       "\n",
       "    .dataframe tbody tr th {\n",
       "        vertical-align: top;\n",
       "    }\n",
       "\n",
       "    .dataframe thead th {\n",
       "        text-align: right;\n",
       "    }\n",
       "</style>\n",
       "<table border=\"1\" class=\"dataframe\">\n",
       "  <thead>\n",
       "    <tr style=\"text-align: right;\">\n",
       "      <th></th>\n",
       "      <th>HouseYear</th>\n",
       "    </tr>\n",
       "  </thead>\n",
       "  <tbody>\n",
       "    <tr>\n",
       "      <th>8828</th>\n",
       "      <td>4968</td>\n",
       "    </tr>\n",
       "    <tr>\n",
       "      <th>9163</th>\n",
       "      <td>20052011</td>\n",
       "    </tr>\n",
       "  </tbody>\n",
       "</table>\n",
       "</div>"
      ],
      "text/plain": [
       "      HouseYear\n",
       "8828       4968\n",
       "9163   20052011"
      ]
     },
     "execution_count": 10,
     "metadata": {},
     "output_type": "execute_result"
    }
   ],
   "source": [
    "data_train.loc[data_train['HouseYear'] > 2020, ['HouseYear']]"
   ]
  },
  {
   "cell_type": "code",
   "execution_count": 11,
   "id": "0g1-YrQny-V0",
   "metadata": {
    "id": "0g1-YrQny-V0"
   },
   "outputs": [],
   "source": [
    "data_train.loc[8828, 'HouseYear'] = 1968  # обработка первого значения 4968\n",
    "data_train.loc[9163, 'HouseYear'] = 2011  # обработка второго значения 20052011 (возможно, это полная дата 20 мая 2011 года)\n",
    "data_train['HouseYear'] = data_train['HouseYear'].astype(np.uint16)"
   ]
  },
  {
   "cell_type": "markdown",
   "id": "Y6QsHi7Aj23i",
   "metadata": {
    "id": "Y6QsHi7Aj23i"
   },
   "source": [
    "Архитектура в СССР носила на себе след того или иного генерального секретаря коммунистической партии (сталинки, хрущевки, брежневки), поэтому для более осмысленной обработки данных вводятся новые признаки, основанные на признаке *HouseYear*."
   ]
  },
  {
   "cell_type": "code",
   "execution_count": 12,
   "id": "NAOdhAtU1gUv",
   "metadata": {
    "id": "NAOdhAtU1gUv"
   },
   "outputs": [],
   "source": [
    "added_cols = {\n",
    "              'Less_1930': (1930, ), 'Between_1930_and_1955': (1930, 1955),\n",
    "              'Between_1956_and_1965': (1956, 1965), 'Between_1966_and_1979': (1966, 1979), \n",
    "              'Between_1980_and_1989': (1980, 1989), 'Between_1990_and_2009': (1990, 2009),\n",
    "              'More2010': (2009, )\n",
    "              }"
   ]
  },
  {
   "cell_type": "code",
   "execution_count": 13,
   "id": "k6LD959xkVmr",
   "metadata": {
    "id": "k6LD959xkVmr"
   },
   "outputs": [],
   "source": [
    "def select_intervals_of_years(df, cols):\n",
    "    for k in cols.keys():\n",
    "        df[k] = 0\n",
    "        df[k] = df[k].astype(np.uint8)\n",
    "        if 'Less' in k:\n",
    "            df.loc[df['HouseYear'] < cols[k][0], k] = 1\n",
    "        elif 'More' in k:\n",
    "            df.loc[df['HouseYear'] > cols[k][0], k] = 1\n",
    "        else:\n",
    "            df.loc[(df['HouseYear'] >= cols[k][0]) & (df['HouseYear'] <= cols[k][1]), k] = 1"
   ]
  },
  {
   "cell_type": "code",
   "execution_count": 14,
   "id": "tjouqzLtumMz",
   "metadata": {
    "id": "tjouqzLtumMz"
   },
   "outputs": [],
   "source": [
    "select_intervals_of_years(data_train, added_cols)\n",
    "select_intervals_of_years(data_test, added_cols)"
   ]
  },
  {
   "cell_type": "code",
   "execution_count": 15,
   "id": "gGZBg4fiEwMd",
   "metadata": {
    "id": "gGZBg4fiEwMd"
   },
   "outputs": [],
   "source": [
    "added_cols = list(added_cols.keys())"
   ]
  },
  {
   "cell_type": "markdown",
   "id": "aKWbH4FJrM4z",
   "metadata": {
    "id": "aKWbH4FJrM4z"
   },
   "source": [
    "**Обработка признаков *HouseFloor* и *Floor*.**"
   ]
  },
  {
   "cell_type": "code",
   "execution_count": 16,
   "id": "uZ62IVXTqwQI",
   "metadata": {
    "colab": {
     "base_uri": "https://localhost:8080/"
    },
    "id": "uZ62IVXTqwQI",
    "outputId": "4a311366-6ec5-47f3-bd27-da25a1e1d4ce"
   },
   "outputs": [
    {
     "data": {
      "text/plain": [
       "count    1.000000e+04\n",
       "mean              inf\n",
       "std      6.777344e+00\n",
       "min      0.000000e+00\n",
       "25%      9.000000e+00\n",
       "50%      1.300000e+01\n",
       "75%      1.700000e+01\n",
       "max      1.170000e+02\n",
       "Name: HouseFloor, dtype: float64"
      ]
     },
     "execution_count": 16,
     "metadata": {},
     "output_type": "execute_result"
    }
   ],
   "source": [
    "data_train['HouseFloor'].describe()"
   ]
  },
  {
   "cell_type": "markdown",
   "id": "qvMojcuxl0PF",
   "metadata": {
    "id": "qvMojcuxl0PF"
   },
   "source": [
    "<code>Из описания признака видно, что имеются дома с этажностью нуль, а так же с необычно большими показателями этажности.  \n",
    "В Москве до 1995 года этажность жилых зданий не превышала 34 этажей, до 2015 года - 76 этажей, до 2020 года - 95 этажей ([Ссылка][1]). Сделаем проверку на корректность данного признака в нашем наборе данных, а затем обработаем аномальные значения.\n",
    "\n",
    "[1]: https://ru.wikipedia.org/wiki/%D0%A1%D0%BF%D0%B8%D1%81%D0%BE%D0%BA_%D1%81%D0%B0%D0%BC%D1%8B%D1%85_%D0%B2%D1%8B%D1%81%D0%BE%D0%BA%D0%B8%D1%85_%D0%B7%D0%B4%D0%B0%D0%BD%D0%B8%D0%B9_%D0%A0%D0%BE%D1%81%D1%81%D0%B8%D0%B8       \"Ссылка\"\n",
    "</code>"
   ]
  },
  {
   "cell_type": "code",
   "execution_count": 17,
   "id": "R5bbpYFpnEbu",
   "metadata": {
    "id": "R5bbpYFpnEbu"
   },
   "outputs": [],
   "source": [
    "max_housefloor = {1995: 34, 2015: 76, 2020: 95}\n",
    "target = 'Price'\n",
    "\n",
    "def set_housefloor(df, target=target):\n",
    "    '''Set housefloor according to max_housefloor dictinary'''\n",
    "\n",
    "    if target in df:\n",
    "        name = 'data_train'\n",
    "    else:\n",
    "        name = 'data_test'\n",
    "    for k in max_housefloor.keys():\n",
    "        print(\n",
    "            f\"Количество домов до {k} года постройки с этажностью выше {max_housefloor[k]} в {name}\",\n",
    "            f\"равно {len(df[(df['HouseFloor'] > max_housefloor[k]) & (df['HouseYear'] < k+1)])}.\"\n",
    "            )\n",
    "        print(\n",
    "            f\"Количество квартир в домах до {k} года постройки на этаже выше {max_housefloor[k]} в {name}\",\n",
    "            f\"равно {len(df[(df['Floor'] > max_housefloor[k]) & (df['HouseYear'] < k+1)])}.\"\n",
    "            )\n",
    "        df.loc[(df['HouseFloor'] > max_housefloor[k]) & (df['HouseYear'] < k+1), 'HouseFloor'] = max_housefloor[k]\n",
    "        df.loc[(df['Floor'] > max_housefloor[k]) & (df['HouseYear'] < k+1), 'HouseFloor'] = max_housefloor[k]"
   ]
  },
  {
   "cell_type": "code",
   "execution_count": 18,
   "id": "Naa42pA-vLlK",
   "metadata": {
    "colab": {
     "base_uri": "https://localhost:8080/"
    },
    "id": "Naa42pA-vLlK",
    "outputId": "25adaaf1-3b42-4f8b-f95c-7f60edb202dd"
   },
   "outputs": [
    {
     "name": "stdout",
     "output_type": "stream",
     "text": [
      "Количество домов до 1995 года постройки с этажностью выше 34 в data_train равно 6.\n",
      "Количество квартир в домах до 1995 года постройки на этаже выше 34 в data_train равно 0.\n",
      "Количество домов до 2015 года постройки с этажностью выше 76 в data_train равно 0.\n",
      "Количество квартир в домах до 2015 года постройки на этаже выше 76 в data_train равно 0.\n",
      "Количество домов до 2020 года постройки с этажностью выше 95 в data_train равно 0.\n",
      "Количество квартир в домах до 2020 года постройки на этаже выше 95 в data_train равно 0.\n",
      "Количество домов до 1995 года постройки с этажностью выше 34 в data_test равно 1.\n",
      "Количество квартир в домах до 1995 года постройки на этаже выше 34 в data_test равно 1.\n",
      "Количество домов до 2015 года постройки с этажностью выше 76 в data_test равно 0.\n",
      "Количество квартир в домах до 2015 года постройки на этаже выше 76 в data_test равно 1.\n",
      "Количество домов до 2020 года постройки с этажностью выше 95 в data_test равно 0.\n",
      "Количество квартир в домах до 2020 года постройки на этаже выше 95 в data_test равно 0.\n"
     ]
    }
   ],
   "source": [
    "set_housefloor(data_train)\n",
    "set_housefloor(data_test)"
   ]
  },
  {
   "cell_type": "code",
   "execution_count": 19,
   "id": "D6SWnx--qKaS",
   "metadata": {
    "colab": {
     "base_uri": "https://localhost:8080/"
    },
    "id": "D6SWnx--qKaS",
    "outputId": "175622fa-5932-42fc-8624-13f4cf87837a"
   },
   "outputs": [
    {
     "name": "stdout",
     "output_type": "stream",
     "text": [
      "Количество домов с этажностью 0 в тренировочном наборе равно 269.\n",
      "Количество домов с этажностью 0 в тестовом наборе равно 131.\n"
     ]
    }
   ],
   "source": [
    "print(f\"Количество домов с этажностью 0 в тренировочном наборе равно {len(data_train[(data_train['HouseFloor'] == 0)])}.\")\n",
    "print(f\"Количество домов с этажностью 0 в тестовом наборе равно {len(data_test[(data_test['HouseFloor'] == 0)])}.\")"
   ]
  },
  {
   "cell_type": "markdown",
   "id": "z9T_5G8U1mEg",
   "metadata": {
    "id": "z9T_5G8U1mEg"
   },
   "source": [
    "Заменим нулевые значения признака HouseFloor на медианные значения в зависимости от принадлежности к интервалу по годам."
   ]
  },
  {
   "cell_type": "code",
   "execution_count": 20,
   "id": "7JAsCXmpt35m",
   "metadata": {
    "colab": {
     "base_uri": "https://localhost:8080/"
    },
    "id": "7JAsCXmpt35m",
    "outputId": "ea159f9c-fdc6-481f-b119-e24aaa50edb2"
   },
   "outputs": [
    {
     "name": "stdout",
     "output_type": "stream",
     "text": [
      "Для домов, постоенных Less_1930 медиана этажности равна 5.0.\n",
      "Для домов, постоенных Between_1930_and_1955 медиана этажности равна 5.0.\n",
      "Для домов, постоенных Between_1956_and_1965 медиана этажности равна 5.0.\n",
      "Для домов, постоенных Between_1966_and_1979 медиана этажности равна 12.0.\n",
      "Для домов, постоенных Between_1980_and_1989 медиана этажности равна 16.0.\n",
      "Для домов, постоенных Between_1990_and_2009 медиана этажности равна 17.0.\n",
      "Для домов, постоенных More2010 медиана этажности равна 17.0.\n"
     ]
    }
   ],
   "source": [
    "for col in added_cols:\n",
    "    median_housefloor = data_train.loc[data_train[col] == 1, 'HouseFloor'].median()\n",
    "    print(f'Для домов, постоенных {col} медиана этажности равна {median_housefloor}.')\n",
    "    data_train.loc[(data_train[col] == 1) & (data_train['HouseFloor'] == 0), 'HouseFloor'] = median_housefloor\n",
    "    data_test.loc[(data_test[col] == 1) & (data_test['HouseFloor'] == 0), 'HouseFloor'] = median_housefloor"
   ]
  },
  {
   "cell_type": "code",
   "execution_count": 21,
   "id": "Hl3CTbfTqJQq",
   "metadata": {
    "colab": {
     "base_uri": "https://localhost:8080/"
    },
    "id": "Hl3CTbfTqJQq",
    "outputId": "1f430827-a8ac-4202-83d2-464700e86247"
   },
   "outputs": [
    {
     "name": "stdout",
     "output_type": "stream",
     "text": [
      "Количество домов с этажностью 0 в тренировочном наборе равно 0.\n",
      "Количество домов с этажностью 0 в тестовом наборе равно 0.\n"
     ]
    }
   ],
   "source": [
    "print(f\"Количество домов с этажностью 0 в тренировочном наборе равно {len(data_train[(data_train['HouseFloor'] == 0)])}.\")\n",
    "print(f\"Количество домов с этажностью 0 в тестовом наборе равно {len(data_test[(data_test['HouseFloor'] == 0)])}.\")"
   ]
  },
  {
   "cell_type": "code",
   "execution_count": 22,
   "id": "L-HBkb5KqxE6",
   "metadata": {
    "colab": {
     "base_uri": "https://localhost:8080/"
    },
    "id": "L-HBkb5KqxE6",
    "outputId": "52566a23-147f-4bab-c0a0-d9fe79d04de4"
   },
   "outputs": [
    {
     "name": "stdout",
     "output_type": "stream",
     "text": [
      "Количество квартир в тренировочном наборе, у которых этаж больше этажности дома равно 1619.\n",
      "Количество квартир в тестовом наборе, у которых этаж больше этажности дома равно 792.\n"
     ]
    }
   ],
   "source": [
    "print(\n",
    "    'Количество квартир в тренировочном наборе, у которых этаж больше этажности дома равно',\n",
    "    f\"{len(data_train[data_train['Floor'] > data_train['HouseFloor']])}.\"\n",
    "    )\n",
    "print(\n",
    "    'Количество квартир в тестовом наборе, у которых этаж больше этажности дома равно',\n",
    "    f\"{len(data_test[data_test['Floor'] > data_test['HouseFloor']])}.\"\n",
    "    )"
   ]
  },
  {
   "cell_type": "markdown",
   "id": "hvHOT-Hc2ETw",
   "metadata": {
    "id": "hvHOT-Hc2ETw"
   },
   "source": [
    "В тех записях, где значение признака *HouseFloor* меньше значения признака *Floor*, поменяем местами значения признака *HouseFloor* и значение признака *Floor*."
   ]
  },
  {
   "cell_type": "code",
   "execution_count": 23,
   "id": "7Fl9AKFl2qPC",
   "metadata": {
    "colab": {
     "base_uri": "https://localhost:8080/",
     "height": 206
    },
    "id": "7Fl9AKFl2qPC",
    "outputId": "26f9c284-0981-49b4-e385-1603d2e753e8"
   },
   "outputs": [
    {
     "data": {
      "text/html": [
       "<div>\n",
       "<style scoped>\n",
       "    .dataframe tbody tr th:only-of-type {\n",
       "        vertical-align: middle;\n",
       "    }\n",
       "\n",
       "    .dataframe tbody tr th {\n",
       "        vertical-align: top;\n",
       "    }\n",
       "\n",
       "    .dataframe thead th {\n",
       "        text-align: right;\n",
       "    }\n",
       "</style>\n",
       "<table border=\"1\" class=\"dataframe\">\n",
       "  <thead>\n",
       "    <tr style=\"text-align: right;\">\n",
       "      <th></th>\n",
       "      <th>HouseFloor</th>\n",
       "      <th>Floor</th>\n",
       "    </tr>\n",
       "  </thead>\n",
       "  <tbody>\n",
       "    <tr>\n",
       "      <th>17</th>\n",
       "      <td>5.0</td>\n",
       "      <td>6</td>\n",
       "    </tr>\n",
       "    <tr>\n",
       "      <th>19</th>\n",
       "      <td>14.0</td>\n",
       "      <td>16</td>\n",
       "    </tr>\n",
       "    <tr>\n",
       "      <th>21</th>\n",
       "      <td>9.0</td>\n",
       "      <td>11</td>\n",
       "    </tr>\n",
       "    <tr>\n",
       "      <th>25</th>\n",
       "      <td>1.0</td>\n",
       "      <td>18</td>\n",
       "    </tr>\n",
       "    <tr>\n",
       "      <th>26</th>\n",
       "      <td>1.0</td>\n",
       "      <td>13</td>\n",
       "    </tr>\n",
       "  </tbody>\n",
       "</table>\n",
       "</div>"
      ],
      "text/plain": [
       "    HouseFloor  Floor\n",
       "17         5.0      6\n",
       "19        14.0     16\n",
       "21         9.0     11\n",
       "25         1.0     18\n",
       "26         1.0     13"
      ]
     },
     "execution_count": 23,
     "metadata": {},
     "output_type": "execute_result"
    }
   ],
   "source": [
    "data_train.loc[data_train['HouseFloor'] < data_train['Floor'], ['HouseFloor', 'Floor']].head()"
   ]
  },
  {
   "cell_type": "code",
   "execution_count": 24,
   "id": "n3RY9x8Q2s28",
   "metadata": {
    "id": "n3RY9x8Q2s28"
   },
   "outputs": [],
   "source": [
    "def swap_flor_and_housefloor(df, target=target):\n",
    "    '''Swap the values floor and houseflor where floor more than housefloor'''\n",
    "\n",
    "    name = 'data_train' if target in df.columns else 'data_test'\n",
    "    condition = df['HouseFloor'] < df['Floor']\n",
    "    df.loc[condition, ['Floor', 'HouseFloor']] = (df.loc[condition, ['HouseFloor', 'Floor']].values)\n",
    "    df[['Floor', 'HouseFloor']] = df[['Floor', 'HouseFloor']].astype(np.uint8)\n",
    "    print(\n",
    "        f\"Количество квартир в {name}, у которых этаж больше этажности дома равно\",\n",
    "        f\"{len(df[df['Floor'] > df['HouseFloor']])}.\"\n",
    "        )"
   ]
  },
  {
   "cell_type": "code",
   "execution_count": 25,
   "id": "mD7WfeaSxnpH",
   "metadata": {
    "colab": {
     "base_uri": "https://localhost:8080/"
    },
    "id": "mD7WfeaSxnpH",
    "outputId": "893a6ebc-55b3-4a2f-f8f2-1b88a6c62b5f"
   },
   "outputs": [
    {
     "name": "stdout",
     "output_type": "stream",
     "text": [
      "Количество квартир в data_train, у которых этаж больше этажности дома равно 0.\n",
      "Количество квартир в data_test, у которых этаж больше этажности дома равно 0.\n"
     ]
    }
   ],
   "source": [
    "swap_flor_and_housefloor(data_train)\n",
    "swap_flor_and_housefloor(data_test)"
   ]
  },
  {
   "cell_type": "code",
   "execution_count": 26,
   "id": "PQEazKrS3EpG",
   "metadata": {
    "colab": {
     "base_uri": "https://localhost:8080/",
     "height": 206
    },
    "id": "PQEazKrS3EpG",
    "outputId": "1e4b7067-8c17-469c-c9b7-9ec63858cc03"
   },
   "outputs": [
    {
     "data": {
      "text/html": [
       "<div>\n",
       "<style scoped>\n",
       "    .dataframe tbody tr th:only-of-type {\n",
       "        vertical-align: middle;\n",
       "    }\n",
       "\n",
       "    .dataframe tbody tr th {\n",
       "        vertical-align: top;\n",
       "    }\n",
       "\n",
       "    .dataframe thead th {\n",
       "        text-align: right;\n",
       "    }\n",
       "</style>\n",
       "<table border=\"1\" class=\"dataframe\">\n",
       "  <thead>\n",
       "    <tr style=\"text-align: right;\">\n",
       "      <th></th>\n",
       "      <th>HouseFloor</th>\n",
       "      <th>Floor</th>\n",
       "    </tr>\n",
       "  </thead>\n",
       "  <tbody>\n",
       "    <tr>\n",
       "      <th>17</th>\n",
       "      <td>6</td>\n",
       "      <td>5</td>\n",
       "    </tr>\n",
       "    <tr>\n",
       "      <th>19</th>\n",
       "      <td>16</td>\n",
       "      <td>14</td>\n",
       "    </tr>\n",
       "    <tr>\n",
       "      <th>21</th>\n",
       "      <td>11</td>\n",
       "      <td>9</td>\n",
       "    </tr>\n",
       "    <tr>\n",
       "      <th>25</th>\n",
       "      <td>18</td>\n",
       "      <td>1</td>\n",
       "    </tr>\n",
       "    <tr>\n",
       "      <th>26</th>\n",
       "      <td>13</td>\n",
       "      <td>1</td>\n",
       "    </tr>\n",
       "  </tbody>\n",
       "</table>\n",
       "</div>"
      ],
      "text/plain": [
       "    HouseFloor  Floor\n",
       "17           6      5\n",
       "19          16     14\n",
       "21          11      9\n",
       "25          18      1\n",
       "26          13      1"
      ]
     },
     "execution_count": 26,
     "metadata": {},
     "output_type": "execute_result"
    }
   ],
   "source": [
    "data_train.loc[(17, 19, 21, 25, 26), ['HouseFloor', 'Floor']]"
   ]
  },
  {
   "cell_type": "markdown",
   "id": "27GjL-gHzjEb",
   "metadata": {
    "id": "27GjL-gHzjEb"
   },
   "source": [
    "**Обработка признака *Rooms*.**"
   ]
  },
  {
   "cell_type": "code",
   "execution_count": 27,
   "id": "be4FCcEuzo8S",
   "metadata": {
    "colab": {
     "base_uri": "https://localhost:8080/"
    },
    "id": "be4FCcEuzo8S",
    "outputId": "0988a0b6-2195-4d51-f1b3-7ed2f7516f1f"
   },
   "outputs": [
    {
     "data": {
      "text/plain": [
       "count    10000.000000\n",
       "mean         1.891602\n",
       "std          0.839844\n",
       "min          0.000000\n",
       "25%          1.000000\n",
       "50%          2.000000\n",
       "75%          2.000000\n",
       "max         19.000000\n",
       "Name: Rooms, dtype: float64"
      ]
     },
     "execution_count": 27,
     "metadata": {},
     "output_type": "execute_result"
    }
   ],
   "source": [
    "data_train['Rooms'].describe()"
   ]
  },
  {
   "cell_type": "markdown",
   "id": "OxCn9uxJz17l",
   "metadata": {
    "id": "OxCn9uxJz17l"
   },
   "source": [
    "Обнаруживаем присутствие нулевых и чрезмерно больших значений. Посчитаем, сколько таких значений."
   ]
  },
  {
   "cell_type": "code",
   "execution_count": 28,
   "id": "PVXiXHGs0HjY",
   "metadata": {
    "colab": {
     "base_uri": "https://localhost:8080/"
    },
    "id": "PVXiXHGs0HjY",
    "outputId": "30d736fa-43f3-4af1-8b5a-f09530ec7745"
   },
   "outputs": [
    {
     "name": "stdout",
     "output_type": "stream",
     "text": [
      "Количество квартир с количеством комнат равным 0 и более 5 в тренировочном наборе равно 12.\n",
      "Количество квартир с количеством комнат равным 0 и более 5 в тестовом наборе равно 5.\n"
     ]
    }
   ],
   "source": [
    "print(\n",
    "    \"Количество квартир с количеством комнат равным 0 и более 5 в тренировочном наборе равно\",\n",
    "    f\"{len(data_train[(data_train['Rooms'] == 0) | (data_train['Rooms'] > 5)])}.\"\n",
    "    )\n",
    "print(\n",
    "    \"Количество квартир с количеством комнат равным 0 и более 5 в тестовом наборе равно\",\n",
    "    f\"{len(data_test[(data_test['Rooms'] == 0) | (data_test['Rooms'] > 5)])}.\"\n",
    "    )"
   ]
  },
  {
   "cell_type": "code",
   "execution_count": 29,
   "id": "QjFPEpi4-u2u",
   "metadata": {
    "id": "QjFPEpi4-u2u"
   },
   "outputs": [],
   "source": [
    "def get_hist(df, fl, bins=20):\n",
    "    '''Draw histograms for data set's features from list, max columns equals 3'''\n",
    "\n",
    "    if len(fl) % 3 == 0:\n",
    "        rows, cols = (len(fl) // 3, 3)\n",
    "    elif len(fl) < 3:\n",
    "        rows, cols = (1, len(fl) % 3)\n",
    "    else:\n",
    "        rows, cols = (len(fl) // 3 + 1, 3)\n",
    "    fig, axes = plt.subplots(nrows=rows, ncols=cols, figsize=(cols * 5, rows * 4))\n",
    "    if cols == 1:\n",
    "        axes = np.array(axes)\n",
    "    for ax, f in zip(axes.reshape(-1), fl):\n",
    "        ax.hist(df[f], bins=bins, edgecolor='white')\n",
    "        ax.set_title(f)\n",
    "        ax.set_yscale('log')\n",
    "    plt.show()"
   ]
  },
  {
   "cell_type": "code",
   "execution_count": 30,
   "id": "VvBipcM1vI0W",
   "metadata": {
    "colab": {
     "base_uri": "https://localhost:8080/",
     "height": 281
    },
    "id": "VvBipcM1vI0W",
    "outputId": "0f7c4190-c4a8-472b-f578-33be653f91c2"
   },
   "outputs": [
    {
     "data": {
      "image/png": "[encoded data removed]",
      "text/plain": [
       "<Figure size 360x288 with 1 Axes>"
      ]
     },
     "metadata": {
      "needs_background": "light"
     },
     "output_type": "display_data"
    }
   ],
   "source": [
    "get_hist(data_train, ['Rooms'])"
   ]
  },
  {
   "cell_type": "markdown",
   "id": "7JXZCGmh8KEl",
   "metadata": {
    "id": "7JXZCGmh8KEl"
   },
   "source": [
    "Посчитаем медианы по признаку *Square* для квартир с разным количеством комнат, затем для каждой записи с некорректным значением признака *Rooms* посчитаем разность между каждой медианой и признаком *Square*. По минимальной разности будем присваивать то или иное значение признаку *Rooms*."
   ]
  },
  {
   "cell_type": "code",
   "execution_count": 31,
   "id": "_U7AVBcN-Nji",
   "metadata": {
    "id": "_U7AVBcN-Nji"
   },
   "outputs": [],
   "source": [
    "median_square_dict = {}\n",
    "\n",
    "def set_rooms(df, target=target):\n",
    "    for col in added_cols:\n",
    "        if target in df.columns:\n",
    "            square_medians = df.loc[\n",
    "                (df['Rooms'] > 0) & (df['Rooms'] < 6) & (df[col] == 1),\n",
    "                ['Rooms', 'Square']\n",
    "            ].groupby(by='Rooms').median()\n",
    "            median_square_dict[col] = square_medians\n",
    "\n",
    "        rooms_condition = ((df['Rooms'] == 0) | (df['Rooms'] > 5)) & (df[col] == 1)\n",
    "        cur_df = df.loc[rooms_condition, 'Square']\n",
    "        if len(cur_df) > 0:\n",
    "            for i in cur_df.index:\n",
    "                df.loc[i, 'Rooms'] = np.abs(median_square_dict[col] - cur_df.loc[i]).idxmin()['Square']\n",
    "    df['Rooms'] = df['Rooms'].astype(np.uint8)"
   ]
  },
  {
   "cell_type": "code",
   "execution_count": 32,
   "id": "Q_L8Q-3Z1kAp",
   "metadata": {
    "id": "Q_L8Q-3Z1kAp"
   },
   "outputs": [],
   "source": [
    "set_rooms(data_train)\n",
    "set_rooms(data_test)"
   ]
  },
  {
   "cell_type": "code",
   "execution_count": 33,
   "id": "WHtjyYhWsmca",
   "metadata": {
    "colab": {
     "base_uri": "https://localhost:8080/",
     "height": 281
    },
    "id": "WHtjyYhWsmca",
    "outputId": "326f2c73-853c-4f09-d4ff-e2c6b2d55555"
   },
   "outputs": [
    {
     "data": {
      "image/png": "[encoded data removed]",
      "text/plain": [
       "<Figure size 360x288 with 1 Axes>"
      ]
     },
     "metadata": {
      "needs_background": "light"
     },
     "output_type": "display_data"
    }
   ],
   "source": [
    "get_hist(data_train, ['Rooms'], bins=5)"
   ]
  },
  {
   "cell_type": "markdown",
   "id": "vkU45GMl5uQ7",
   "metadata": {
    "id": "vkU45GMl5uQ7"
   },
   "source": [
    "**Обработка признаков *Square*, *LifeSquare* и *KitchenSquare*.**"
   ]
  },
  {
   "cell_type": "code",
   "execution_count": 34,
   "id": "uBZht4e76HYH",
   "metadata": {
    "colab": {
     "base_uri": "https://localhost:8080/",
     "height": 300
    },
    "id": "uBZht4e76HYH",
    "outputId": "415679b0-919d-471a-8b75-780ad60eff54"
   },
   "outputs": [
    {
     "data": {
      "text/html": [
       "<div>\n",
       "<style scoped>\n",
       "    .dataframe tbody tr th:only-of-type {\n",
       "        vertical-align: middle;\n",
       "    }\n",
       "\n",
       "    .dataframe tbody tr th {\n",
       "        vertical-align: top;\n",
       "    }\n",
       "\n",
       "    .dataframe thead th {\n",
       "        text-align: right;\n",
       "    }\n",
       "</style>\n",
       "<table border=\"1\" class=\"dataframe\">\n",
       "  <thead>\n",
       "    <tr style=\"text-align: right;\">\n",
       "      <th></th>\n",
       "      <th>Square</th>\n",
       "      <th>LifeSquare</th>\n",
       "      <th>KitchenSquare</th>\n",
       "    </tr>\n",
       "  </thead>\n",
       "  <tbody>\n",
       "    <tr>\n",
       "      <th>count</th>\n",
       "      <td>1.000000e+04</td>\n",
       "      <td>7887.000000</td>\n",
       "      <td>1.000000e+04</td>\n",
       "    </tr>\n",
       "    <tr>\n",
       "      <th>mean</th>\n",
       "      <td>inf</td>\n",
       "      <td>inf</td>\n",
       "      <td>6.273438e+00</td>\n",
       "    </tr>\n",
       "    <tr>\n",
       "      <th>std</th>\n",
       "      <td>inf</td>\n",
       "      <td>inf</td>\n",
       "      <td>inf</td>\n",
       "    </tr>\n",
       "    <tr>\n",
       "      <th>min</th>\n",
       "      <td>1.136719e+00</td>\n",
       "      <td>0.370605</td>\n",
       "      <td>0.000000e+00</td>\n",
       "    </tr>\n",
       "    <tr>\n",
       "      <th>25%</th>\n",
       "      <td>4.178125e+01</td>\n",
       "      <td>22.765625</td>\n",
       "      <td>1.000000e+00</td>\n",
       "    </tr>\n",
       "    <tr>\n",
       "      <th>50%</th>\n",
       "      <td>5.250000e+01</td>\n",
       "      <td>32.781250</td>\n",
       "      <td>6.000000e+00</td>\n",
       "    </tr>\n",
       "    <tr>\n",
       "      <th>75%</th>\n",
       "      <td>6.587500e+01</td>\n",
       "      <td>45.125000</td>\n",
       "      <td>9.000000e+00</td>\n",
       "    </tr>\n",
       "    <tr>\n",
       "      <th>max</th>\n",
       "      <td>6.410000e+02</td>\n",
       "      <td>7480.000000</td>\n",
       "      <td>2.014000e+03</td>\n",
       "    </tr>\n",
       "  </tbody>\n",
       "</table>\n",
       "</div>"
      ],
      "text/plain": [
       "             Square   LifeSquare  KitchenSquare\n",
       "count  1.000000e+04  7887.000000   1.000000e+04\n",
       "mean            inf          inf   6.273438e+00\n",
       "std             inf          inf            inf\n",
       "min    1.136719e+00     0.370605   0.000000e+00\n",
       "25%    4.178125e+01    22.765625   1.000000e+00\n",
       "50%    5.250000e+01    32.781250   6.000000e+00\n",
       "75%    6.587500e+01    45.125000   9.000000e+00\n",
       "max    6.410000e+02  7480.000000   2.014000e+03"
      ]
     },
     "execution_count": 34,
     "metadata": {},
     "output_type": "execute_result"
    }
   ],
   "source": [
    "data_train[['Square', 'LifeSquare', 'KitchenSquare']].describe()"
   ]
  },
  {
   "cell_type": "code",
   "execution_count": 35,
   "id": "etPOOCqbwI4N",
   "metadata": {
    "colab": {
     "base_uri": "https://localhost:8080/",
     "height": 281
    },
    "id": "etPOOCqbwI4N",
    "outputId": "d90f83bf-255d-4258-9093-e0124ce91136"
   },
   "outputs": [
    {
     "data": {
      "image/png": "[encoded data removed]",
      "text/plain": [
       "<Figure size 1080x288 with 3 Axes>"
      ]
     },
     "metadata": {
      "needs_background": "light"
     },
     "output_type": "display_data"
    }
   ],
   "source": [
    "get_hist(data_train, ['Square', 'LifeSquare', 'KitchenSquare'], bins=60)"
   ]
  },
  {
   "cell_type": "markdown",
   "id": "OQTny9BV7QX3",
   "metadata": {
    "id": "OQTny9BV7QX3"
   },
   "source": [
    "При построении гистограмм обнаруживаем незначительное количество выбросов. Для признаков находим 0,025- и 0,975-квантили в зависимости от принадлежности к временному интервалу и количества комнат, затем находим значения меньше 0,025-квантиля и присваиваем им новое значение, равное 0,025-квантилю. Аналогичные преобразования производим со значениями, которые выше 0,975-квантиля."
   ]
  },
  {
   "cell_type": "code",
   "execution_count": 85,
   "id": "LYjSjJ43TkSE",
   "metadata": {
    "id": "LYjSjJ43TkSE"
   },
   "outputs": [],
   "source": [
    "quantile_dict = {}\n",
    "\n",
    "def set_num_feature_by_quantile(\n",
    "    df, feature, q_min, q_max, added_cols=None, group_feature=None, target=target\n",
    "    ):\n",
    "    '''Set the values of numerical feature by quantiles'''\n",
    "\n",
    "    feature_type = str(df[feature].dtype)\n",
    "    if 'int' in feature_type or 'float' in feature_type:\n",
    "        if added_cols is not None:\n",
    "            for col in added_cols:\n",
    "                if group_feature is not None:\n",
    "                    if target in df.columns:\n",
    "                        feature_quantile_min = df.loc[df[col] == 1, [group_feature, feature]]\\\n",
    "                            .groupby(by=group_feature).quantile(q_min)\n",
    "                        feature_quantile_max = df.loc[df[col] == 1, [group_feature, feature]]\\\n",
    "                            .groupby(by=group_feature).quantile(q_max)\n",
    "                        quantile_dict[f'{feature}_c-{col}_g-{group_feature}'] = (\n",
    "                            feature_quantile_min, feature_quantile_max\n",
    "                            )\n",
    "\n",
    "                    for i in [int(elem) for elem in (quantile_dict[f'{feature}_c-{col}_g-{group_feature}'][0].index)]:\n",
    "                        min_condition = (df[col] == 1) & (df[group_feature] == i) & \\\n",
    "                            (df[feature] < quantile_dict[f'{feature}_c-{col}_g-{group_feature}'][0].loc[i, feature])\n",
    "                        max_condition = (df[col] == 1) & (df[group_feature] == i) & \\\n",
    "                            (df[feature] > quantile_dict[f'{feature}_c-{col}_g-{group_feature}'][1].loc[i, feature])\n",
    "                        df.loc[min_condition, feature] = quantile_dict[f'{feature}_c-{col}_g-{group_feature}'][0]\\\n",
    "                            .loc[i, feature]\n",
    "                        df.loc[max_condition, feature] = quantile_dict[f'{feature}_c-{col}_g-{group_feature}'][1]\\\n",
    "                            .loc[i, feature]\n",
    "\n",
    "                else:\n",
    "                    if target in df.columns:\n",
    "                        feature_quantile_min = df.loc[df[col] == 1, [feature]].quantile(q_min)\n",
    "                        feature_quantile_max = df.loc[df[col] == 1, [feature]].quantile(q_max)\n",
    "                        quantile_dict[f'{feature}_c-{col}'] = (feature_quantile_min, feature_quantile_max)\n",
    "        \n",
    "                    min_condition = (df[col] == 1) & (df[feature] < quantile_dict[f'{feature}_c-{col}'][0][feature])\n",
    "                    max_condition = (df[col] == 1) & (df[feature] > quantile_dict[f'{feature}_c-{col}'][1][feature])\n",
    "                    df.loc[min_condition, feature] = quantile_dict[f'{feature}_c-{col}'][0][feature]\n",
    "                    df.loc[max_condition, feature] = quantile_dict[f'{feature}_c-{col}'][1][feature]\n",
    "\n",
    "        else:\n",
    "            if group_feature is not None:\n",
    "                if target in df.columns:\n",
    "                    feature_quantile_min = df.loc[:, [group_feature, feature]].groupby(by=group_feature)\\\n",
    "                        .quantile(q_min)\n",
    "                    feature_quantile_max = df.loc[:, [group_feature, feature]].groupby(by=group_feature)\\\n",
    "                        .quantile(q_max)\n",
    "                    quantile_dict[f'{feature}_g-{group_feature}'] = (feature_quantile_min, feature_quantile_max)\n",
    "\n",
    "                for i in [int(elem) for elem in (quantile_dict[f'{feature}_g-{group_feature}'][0].index)]:\n",
    "                    min_condition = (df[group_feature] == i) \\\n",
    "                        & (df[feature] < quantile_dict[f'{feature}_g-{group_feature}'][0].loc[i, feature])\n",
    "                    max_condition = (df[group_feature] == i) \\\n",
    "                        & (df[feature] > quantile_dict[f'{feature}_g-{group_feature}'][1].loc[i, feature])\n",
    "                    df.loc[min_condition, feature] = quantile_dict[f'{feature}_g-{group_feature}'][0]\\\n",
    "                        .loc[i, feature]\n",
    "                    df.loc[max_condition, feature] = quantile_dict[f'{feature}_g-{group_feature}'][1]\\\n",
    "                        .loc[i, feature]\n",
    "\n",
    "            else:\n",
    "                if target in df.columns:\n",
    "                    feature_quantile_min = df.loc[:, [feature]].quantile(q_min)\n",
    "                    feature_quantile_max = df.loc[:, [feature]].quantile(q_max)\n",
    "                    quantile_dict[f'{feature}'] = (feature_quantile_min, feature_quantile_max)\n",
    "        \n",
    "                min_condition = df[feature] < quantile_dict[f'{feature}'][0][feature]\n",
    "                max_condition = df[feature] > quantile_dict[f'{feature}'][1][feature]\n",
    "                df.loc[min_condition, feature] = quantile_dict[f'{feature}'][0][feature]\n",
    "                df.loc[max_condition, feature] = quantile_dict[f'{feature}'][1][feature]\n",
    "        \n",
    "    else:\n",
    "        print('Признак должен описываться в числовом формате!')"
   ]
  },
  {
   "cell_type": "code",
   "execution_count": 37,
   "id": "sF5jBPzV2xh2",
   "metadata": {
    "id": "sF5jBPzV2xh2"
   },
   "outputs": [],
   "source": [
    "for f in ('Square', 'LifeSquare', 'KitchenSquare'):\n",
    "    set_num_feature_by_quantile(data_train, f, .025, .975, added_cols=added_cols, group_feature='Rooms')\n",
    "    set_num_feature_by_quantile(data_test, f, .025, .975, added_cols=added_cols, group_feature='Rooms')"
   ]
  },
  {
   "cell_type": "markdown",
   "id": "nsqmrpK6mUYy",
   "metadata": {
    "id": "nsqmrpK6mUYy"
   },
   "source": [
    "По признаку *KitchenSquare* наблюдается большое количество записей со значениями менее 5. Сгруппируем по признаку *HouseYear* такие записи и посчитаем их количество для каждого года."
   ]
  },
  {
   "cell_type": "code",
   "execution_count": 38,
   "id": "amR1YjZlh5Wi",
   "metadata": {
    "colab": {
     "base_uri": "https://localhost:8080/",
     "height": 395
    },
    "id": "amR1YjZlh5Wi",
    "outputId": "61d2bab8-477f-4175-a6e1-b01bb2a1616a"
   },
   "outputs": [
    {
     "data": {
      "text/html": [
       "<div>\n",
       "<style scoped>\n",
       "    .dataframe tbody tr th:only-of-type {\n",
       "        vertical-align: middle;\n",
       "    }\n",
       "\n",
       "    .dataframe tbody tr th {\n",
       "        vertical-align: top;\n",
       "    }\n",
       "\n",
       "    .dataframe thead th {\n",
       "        text-align: right;\n",
       "    }\n",
       "</style>\n",
       "<table border=\"1\" class=\"dataframe\">\n",
       "  <thead>\n",
       "    <tr style=\"text-align: right;\">\n",
       "      <th></th>\n",
       "      <th>KitchenSquare</th>\n",
       "    </tr>\n",
       "    <tr>\n",
       "      <th>HouseYear</th>\n",
       "      <th></th>\n",
       "    </tr>\n",
       "  </thead>\n",
       "  <tbody>\n",
       "    <tr>\n",
       "      <th>1977</th>\n",
       "      <td>2272</td>\n",
       "    </tr>\n",
       "    <tr>\n",
       "      <th>2017</th>\n",
       "      <td>198</td>\n",
       "    </tr>\n",
       "    <tr>\n",
       "      <th>2016</th>\n",
       "      <td>198</td>\n",
       "    </tr>\n",
       "    <tr>\n",
       "      <th>2015</th>\n",
       "      <td>185</td>\n",
       "    </tr>\n",
       "    <tr>\n",
       "      <th>2014</th>\n",
       "      <td>113</td>\n",
       "    </tr>\n",
       "    <tr>\n",
       "      <th>2018</th>\n",
       "      <td>99</td>\n",
       "    </tr>\n",
       "    <tr>\n",
       "      <th>2019</th>\n",
       "      <td>35</td>\n",
       "    </tr>\n",
       "    <tr>\n",
       "      <th>2013</th>\n",
       "      <td>21</td>\n",
       "    </tr>\n",
       "    <tr>\n",
       "      <th>1966</th>\n",
       "      <td>7</td>\n",
       "    </tr>\n",
       "    <tr>\n",
       "      <th>1965</th>\n",
       "      <td>7</td>\n",
       "    </tr>\n",
       "  </tbody>\n",
       "</table>\n",
       "</div>"
      ],
      "text/plain": [
       "           KitchenSquare\n",
       "HouseYear               \n",
       "1977                2272\n",
       "2017                 198\n",
       "2016                 198\n",
       "2015                 185\n",
       "2014                 113\n",
       "2018                  99\n",
       "2019                  35\n",
       "2013                  21\n",
       "1966                   7\n",
       "1965                   7"
      ]
     },
     "execution_count": 38,
     "metadata": {},
     "output_type": "execute_result"
    }
   ],
   "source": [
    "low_kitchen = data_train.loc[\n",
    "    data_train['KitchenSquare'] < 5, ['KitchenSquare', 'HouseYear']\n",
    "    ].groupby('HouseYear').count()\n",
    "low_kitchen.sort_values(by='KitchenSquare', ascending=False).head(10)"
   ]
  },
  {
   "cell_type": "markdown",
   "id": "rySUyGdKnP42",
   "metadata": {
    "id": "rySUyGdKnP42"
   },
   "source": [
    "Как видим, большее количество таких записей приходится на 1977 год. Так как в новых домах могут быть квартиры-студии, то такие записи обрабатывать не будем. Обработаем только записи, где значение признака *HouseYear* менее 2000 и значение признака *Rooms* более 1 (исключаем возможные квартиры гостинного типа - КГТ). Заменим значения признака *KitchenSquare* в таких записях на медиану данного признака."
   ]
  },
  {
   "cell_type": "code",
   "execution_count": 39,
   "id": "MK4pAcHiSy9_",
   "metadata": {
    "id": "MK4pAcHiSy9_"
   },
   "outputs": [],
   "source": [
    "median_dict = {}\n",
    "\n",
    "def set_num_feature_by_median(\n",
    "    df, feature, condition, added_cols=None, group_feature=None, target=target\n",
    "    ):\n",
    "    '''Set the values of numerical feature by medians'''\n",
    "\n",
    "    feature_type = str(df[feature].dtype)\n",
    "    if 'int' in feature_type or 'float' in feature_type:\n",
    "        if added_cols is not None:\n",
    "            for col in added_cols:\n",
    "                if group_feature is not None:\n",
    "                    if target in df.columns:\n",
    "                        feature_medians = df.loc[\n",
    "                                                df[col] == 1, [group_feature, feature]\n",
    "                                                ].groupby(by=group_feature).median()\n",
    "                        median_dict[f'{feature}_c-{col}_g-{group_feature}'] = feature_medians\n",
    "                        \n",
    "                    for i in [int(elem) for elem in (median_dict[f'{feature}_c-{col}_g-{group_feature}'].index)]:\n",
    "                        current_condition = condition & (df[group_feature] == i) & (df[col] == 1)\n",
    "                        df.loc[current_condition, feature] = median_dict[f'{feature}_c-{col}_g-{group_feature}']\\\n",
    "                            .loc[i, feature]\n",
    "\n",
    "                else:\n",
    "                    if target in df.columns:\n",
    "                        feature_medians = df.loc[df[col] == 1, feature].median()\n",
    "                        median_dict[f'{feature}_c-{col}'] = feature_medians\n",
    "                        \n",
    "                    current_condition = condition & (df[col] == 1)\n",
    "                    df.loc[current_condition, feature] = median_dict[f'{feature}_c-{col}']\n",
    "\n",
    "        else:\n",
    "            if group_feature is not None:\n",
    "                if target in df.columns:\n",
    "                    feature_medians = df.loc[:, [group_feature, feature]].groupby(by=group_feature).median()\n",
    "                    median_dict[f'{feature}_g-{group_feature}'] = feature_medians\n",
    "                    \n",
    "                for i in [int(elem) for elem in (median_dict[f'{feature}_g-{group_feature}'].index)]:\n",
    "                    current_condition = condition & (df[group_feature] == i)\n",
    "                    df.loc[current_condition, feature] = median_dict[f'{feature}_g-{group_feature}'].loc[i, feature]\n",
    "\n",
    "            else:\n",
    "                if target in df.columns:\n",
    "                    feature_medians = df[feature].median()\n",
    "                    median_dict[f'{feature}'] = feature_medians\n",
    "                    \n",
    "                current_condition = condition\n",
    "                df.loc[current_condition, feature] = median_dict[f'{feature}']\n",
    "        \n",
    "    else:\n",
    "        print('Признак должен описываться в числовом формате!')"
   ]
  },
  {
   "cell_type": "code",
   "execution_count": 40,
   "id": "UuCG8krt4YWw",
   "metadata": {
    "id": "UuCG8krt4YWw"
   },
   "outputs": [],
   "source": [
    "for df in [data_train, data_test]:\n",
    "    kitchensquare_condition = (df['KitchenSquare'] < 5) & (df['Rooms'] > 1) & (df['HouseYear'] < 2000)\n",
    "    set_num_feature_by_median(\n",
    "        df, 'KitchenSquare', kitchensquare_condition, added_cols=added_cols, group_feature='Rooms'\n",
    "        )"
   ]
  },
  {
   "cell_type": "code",
   "execution_count": 41,
   "id": "7-7NWqUTOMFQ",
   "metadata": {
    "colab": {
     "base_uri": "https://localhost:8080/"
    },
    "id": "7-7NWqUTOMFQ",
    "outputId": "3b7611ca-0846-47c2-927b-51a07f754da5"
   },
   "outputs": [
    {
     "name": "stdout",
     "output_type": "stream",
     "text": [
      "Количество записей в тренировочном наборе, где жилая площадь больше общей площади, равно 408.\n",
      "Количество записей в тестовом наборе, где жилая площадь больше общей площади, равно 201.\n"
     ]
    }
   ],
   "source": [
    "print(\n",
    "    \"Количество записей в тренировочном наборе, где жилая площадь больше общей площади, равно\",\n",
    "    f\"{len(data_train.loc[(data_train['LifeSquare'] > data_train['Square']), 'Id'])}.\"\n",
    "    )\n",
    "print(\n",
    "    \"Количество записей в тестовом наборе, где жилая площадь больше общей площади, равно\",\n",
    "    f\"{len(data_test.loc[(data_test['LifeSquare'] > data_test['Square']), 'Id'])}.\"\n",
    "    )"
   ]
  },
  {
   "cell_type": "markdown",
   "id": "r-l16n0guAL-",
   "metadata": {
    "id": "r-l16n0guAL-"
   },
   "source": [
    "В тех записях, где жилая площадь больше общей площади, либо значение жилой площади пропущено, присвоим значению признака *LifeSquare* значение разности признака *Square* и удвоенного признака *KitchenSquare*."
   ]
  },
  {
   "cell_type": "code",
   "execution_count": 42,
   "id": "-Cog5wEUtU4q",
   "metadata": {
    "id": "-Cog5wEUtU4q"
   },
   "outputs": [],
   "source": [
    "for df in [data_train, data_test]:\n",
    "    df.loc[(df['LifeSquare'] > df['Square']) | (df['LifeSquare'].isna()), 'LifeSquare'] = df['Square'] \\\n",
    "        - 2*df['KitchenSquare']"
   ]
  },
  {
   "cell_type": "code",
   "execution_count": 43,
   "id": "XgkYBFyYqZzV",
   "metadata": {
    "colab": {
     "base_uri": "https://localhost:8080/"
    },
    "id": "XgkYBFyYqZzV",
    "outputId": "3c89e07f-dbe4-4cba-a051-92e0c28f2909"
   },
   "outputs": [
    {
     "name": "stdout",
     "output_type": "stream",
     "text": [
      "<class 'pandas.core.frame.DataFrame'>\n",
      "RangeIndex: 10000 entries, 0 to 9999\n",
      "Data columns (total 3 columns):\n",
      " #   Column         Non-Null Count  Dtype  \n",
      "---  ------         --------------  -----  \n",
      " 0   Square         10000 non-null  float16\n",
      " 1   LifeSquare     10000 non-null  float16\n",
      " 2   KitchenSquare  10000 non-null  float16\n",
      "dtypes: float16(3)\n",
      "memory usage: 58.7 KB\n"
     ]
    }
   ],
   "source": [
    "data_train[['Square', 'LifeSquare', 'KitchenSquare']].info()"
   ]
  },
  {
   "cell_type": "code",
   "execution_count": 44,
   "id": "J5NWKLcnqVQy",
   "metadata": {
    "colab": {
     "base_uri": "https://localhost:8080/",
     "height": 281
    },
    "id": "J5NWKLcnqVQy",
    "outputId": "6d47e0ca-c053-462b-acc6-cdbd7bcf239b"
   },
   "outputs": [
    {
     "data": {
      "image/png": "[encoded data removed]",
      "text/plain": [
       "<Figure size 1080x288 with 3 Axes>"
      ]
     },
     "metadata": {
      "needs_background": "light"
     },
     "output_type": "display_data"
    }
   ],
   "source": [
    "get_hist(data_train, ['Square', 'LifeSquare', 'KitchenSquare'], bins=60)"
   ]
  },
  {
   "cell_type": "markdown",
   "id": "xOPSAWoK2tOf",
   "metadata": {
    "id": "xOPSAWoK2tOf"
   },
   "source": [
    "**Обработка признака *Ecology_1*.**"
   ]
  },
  {
   "cell_type": "code",
   "execution_count": 45,
   "id": "cdy6Kc8r2rwy",
   "metadata": {
    "colab": {
     "base_uri": "https://localhost:8080/"
    },
    "id": "cdy6Kc8r2rwy",
    "outputId": "a4c4321d-2001-488c-a4ac-9b75ea3ba4cd"
   },
   "outputs": [
    {
     "data": {
      "text/plain": [
       "count    10000.000000\n",
       "mean         0.118896\n",
       "std          0.119019\n",
       "min          0.000000\n",
       "25%          0.017654\n",
       "50%          0.075439\n",
       "75%          0.195801\n",
       "max          0.521973\n",
       "Name: Ecology_1, dtype: float64"
      ]
     },
     "execution_count": 45,
     "metadata": {},
     "output_type": "execute_result"
    }
   ],
   "source": [
    "data_train['Ecology_1'].describe()"
   ]
  },
  {
   "cell_type": "code",
   "execution_count": 46,
   "id": "o6mqriVH3HPJ",
   "metadata": {
    "colab": {
     "base_uri": "https://localhost:8080/",
     "height": 281
    },
    "id": "o6mqriVH3HPJ",
    "outputId": "457e138e-527f-4f8d-a8d9-0cce8d8ee4a0"
   },
   "outputs": [
    {
     "data": {
      "image/png": "[encoded data removed]",
      "text/plain": [
       "<Figure size 360x288 with 1 Axes>"
      ]
     },
     "metadata": {
      "needs_background": "light"
     },
     "output_type": "display_data"
    }
   ],
   "source": [
    "get_hist(data_train, ['Ecology_1'])"
   ]
  },
  {
   "cell_type": "markdown",
   "id": "jbSYBbSr4RuX",
   "metadata": {
    "id": "jbSYBbSr4RuX"
   },
   "source": [
    "Данный признак пропусков и выбросов не имеет, в обработке не нуждается."
   ]
  },
  {
   "cell_type": "markdown",
   "id": "LSuo6HFC3N_0",
   "metadata": {
    "id": "LSuo6HFC3N_0"
   },
   "source": [
    "**Обработка признаков *Social_1*, *Social_2* и *Social_3*.**"
   ]
  },
  {
   "cell_type": "code",
   "execution_count": 47,
   "id": "e6zopfNz3fJM",
   "metadata": {
    "colab": {
     "base_uri": "https://localhost:8080/",
     "height": 300
    },
    "id": "e6zopfNz3fJM",
    "outputId": "52d97c74-6e08-4fe8-bddc-3324f865d086"
   },
   "outputs": [
    {
     "data": {
      "text/html": [
       "<div>\n",
       "<style scoped>\n",
       "    .dataframe tbody tr th:only-of-type {\n",
       "        vertical-align: middle;\n",
       "    }\n",
       "\n",
       "    .dataframe tbody tr th {\n",
       "        vertical-align: top;\n",
       "    }\n",
       "\n",
       "    .dataframe thead th {\n",
       "        text-align: right;\n",
       "    }\n",
       "</style>\n",
       "<table border=\"1\" class=\"dataframe\">\n",
       "  <thead>\n",
       "    <tr style=\"text-align: right;\">\n",
       "      <th></th>\n",
       "      <th>Social_1</th>\n",
       "      <th>Social_2</th>\n",
       "      <th>Social_3</th>\n",
       "    </tr>\n",
       "  </thead>\n",
       "  <tbody>\n",
       "    <tr>\n",
       "      <th>count</th>\n",
       "      <td>10000.000000</td>\n",
       "      <td>10000.000000</td>\n",
       "      <td>10000.000000</td>\n",
       "    </tr>\n",
       "    <tr>\n",
       "      <th>mean</th>\n",
       "      <td>24.687000</td>\n",
       "      <td>5352.157400</td>\n",
       "      <td>8.039200</td>\n",
       "    </tr>\n",
       "    <tr>\n",
       "      <th>std</th>\n",
       "      <td>17.532614</td>\n",
       "      <td>4006.799803</td>\n",
       "      <td>23.831875</td>\n",
       "    </tr>\n",
       "    <tr>\n",
       "      <th>min</th>\n",
       "      <td>0.000000</td>\n",
       "      <td>168.000000</td>\n",
       "      <td>0.000000</td>\n",
       "    </tr>\n",
       "    <tr>\n",
       "      <th>25%</th>\n",
       "      <td>6.000000</td>\n",
       "      <td>1564.000000</td>\n",
       "      <td>0.000000</td>\n",
       "    </tr>\n",
       "    <tr>\n",
       "      <th>50%</th>\n",
       "      <td>25.000000</td>\n",
       "      <td>5285.000000</td>\n",
       "      <td>2.000000</td>\n",
       "    </tr>\n",
       "    <tr>\n",
       "      <th>75%</th>\n",
       "      <td>36.000000</td>\n",
       "      <td>7227.000000</td>\n",
       "      <td>5.000000</td>\n",
       "    </tr>\n",
       "    <tr>\n",
       "      <th>max</th>\n",
       "      <td>74.000000</td>\n",
       "      <td>19083.000000</td>\n",
       "      <td>141.000000</td>\n",
       "    </tr>\n",
       "  </tbody>\n",
       "</table>\n",
       "</div>"
      ],
      "text/plain": [
       "           Social_1      Social_2      Social_3\n",
       "count  10000.000000  10000.000000  10000.000000\n",
       "mean      24.687000   5352.157400      8.039200\n",
       "std       17.532614   4006.799803     23.831875\n",
       "min        0.000000    168.000000      0.000000\n",
       "25%        6.000000   1564.000000      0.000000\n",
       "50%       25.000000   5285.000000      2.000000\n",
       "75%       36.000000   7227.000000      5.000000\n",
       "max       74.000000  19083.000000    141.000000"
      ]
     },
     "execution_count": 47,
     "metadata": {},
     "output_type": "execute_result"
    }
   ],
   "source": [
    "data_train[['Social_1', 'Social_2', 'Social_3']].describe()"
   ]
  },
  {
   "cell_type": "code",
   "execution_count": 48,
   "id": "yQ8k4_Pn3bV3",
   "metadata": {
    "colab": {
     "base_uri": "https://localhost:8080/",
     "height": 281
    },
    "id": "yQ8k4_Pn3bV3",
    "outputId": "4cb309ea-a2d1-4336-f357-86dbf7306071"
   },
   "outputs": [
    {
     "data": {
      "image/png": "[encoded data removed]",
      "text/plain": [
       "<Figure size 1080x288 with 3 Axes>"
      ]
     },
     "metadata": {
      "needs_background": "light"
     },
     "output_type": "display_data"
    }
   ],
   "source": [
    "get_hist(data_train, ['Social_1', 'Social_2', 'Social_3'], bins=60)"
   ]
  },
  {
   "cell_type": "markdown",
   "id": "1a5kCDSIeng8",
   "metadata": {
    "id": "1a5kCDSIeng8"
   },
   "source": [
    "По гистограммам видно, что имеется некоторое количество выбросов по признаку *Social_3*. Сгруппируем записи по признаку *Social_3* и посчитаем для каждого значения количество записей."
   ]
  },
  {
   "cell_type": "code",
   "execution_count": 49,
   "id": "DseDfFVtfNxE",
   "metadata": {
    "colab": {
     "base_uri": "https://localhost:8080/"
    },
    "id": "DseDfFVtfNxE",
    "outputId": "cc5c74e8-0e19-459a-aa9c-6c65793ba608"
   },
   "outputs": [
    {
     "data": {
      "text/plain": [
       "0      2997\n",
       "1      1861\n",
       "3      1136\n",
       "4       835\n",
       "2       635\n",
       "6       423\n",
       "5       391\n",
       "141     245\n",
       "9       192\n",
       "7       184\n",
       "11      172\n",
       "8       170\n",
       "10      142\n",
       "16      101\n",
       "14       97\n",
       "Name: Social_3, dtype: int64"
      ]
     },
     "execution_count": 49,
     "metadata": {},
     "output_type": "execute_result"
    }
   ],
   "source": [
    "data_train['Social_3'].value_counts().head(15)"
   ]
  },
  {
   "cell_type": "code",
   "execution_count": 50,
   "id": "n8HZQGedYodm",
   "metadata": {
    "colab": {
     "base_uri": "https://localhost:8080/",
     "height": 206
    },
    "id": "n8HZQGedYodm",
    "outputId": "9f388ef9-143a-4166-dbb6-ca7a8b020424"
   },
   "outputs": [
    {
     "data": {
      "text/html": [
       "<div>\n",
       "<style scoped>\n",
       "    .dataframe tbody tr th:only-of-type {\n",
       "        vertical-align: middle;\n",
       "    }\n",
       "\n",
       "    .dataframe tbody tr th {\n",
       "        vertical-align: top;\n",
       "    }\n",
       "\n",
       "    .dataframe thead th {\n",
       "        text-align: right;\n",
       "    }\n",
       "</style>\n",
       "<table border=\"1\" class=\"dataframe\">\n",
       "  <thead>\n",
       "    <tr style=\"text-align: right;\">\n",
       "      <th></th>\n",
       "      <th>Social_1</th>\n",
       "      <th>Social_2</th>\n",
       "      <th>Social_3</th>\n",
       "    </tr>\n",
       "  </thead>\n",
       "  <tbody>\n",
       "    <tr>\n",
       "      <th>106</th>\n",
       "      <td>22</td>\n",
       "      <td>6398</td>\n",
       "      <td>141</td>\n",
       "    </tr>\n",
       "    <tr>\n",
       "      <th>109</th>\n",
       "      <td>22</td>\n",
       "      <td>6398</td>\n",
       "      <td>141</td>\n",
       "    </tr>\n",
       "    <tr>\n",
       "      <th>288</th>\n",
       "      <td>22</td>\n",
       "      <td>6398</td>\n",
       "      <td>141</td>\n",
       "    </tr>\n",
       "    <tr>\n",
       "      <th>293</th>\n",
       "      <td>22</td>\n",
       "      <td>6398</td>\n",
       "      <td>141</td>\n",
       "    </tr>\n",
       "    <tr>\n",
       "      <th>330</th>\n",
       "      <td>22</td>\n",
       "      <td>6398</td>\n",
       "      <td>141</td>\n",
       "    </tr>\n",
       "  </tbody>\n",
       "</table>\n",
       "</div>"
      ],
      "text/plain": [
       "     Social_1  Social_2  Social_3\n",
       "106        22      6398       141\n",
       "109        22      6398       141\n",
       "288        22      6398       141\n",
       "293        22      6398       141\n",
       "330        22      6398       141"
      ]
     },
     "execution_count": 50,
     "metadata": {},
     "output_type": "execute_result"
    }
   ],
   "source": [
    "data_train.loc[data_train['Social_3'] == 141, ['Social_1', 'Social_2', 'Social_3']].head()"
   ]
  },
  {
   "cell_type": "markdown",
   "id": "eF1C9Bk8uGae",
   "metadata": {
    "id": "eF1C9Bk8uGae"
   },
   "source": [
    "Посмотрим внимательнее на записи со значениями признаков *Social_1* равным 22, *Social_2* равным 6398 и *Social_3* равным 141."
   ]
  },
  {
   "cell_type": "code",
   "execution_count": 51,
   "id": "vur3_-4cukzf",
   "metadata": {
    "colab": {
     "base_uri": "https://localhost:8080/",
     "height": 269
    },
    "id": "vur3_-4cukzf",
    "outputId": "da0a8095-ce89-42b0-fd83-13c7da8e7597"
   },
   "outputs": [
    {
     "data": {
      "text/html": [
       "<div>\n",
       "<style scoped>\n",
       "    .dataframe tbody tr th:only-of-type {\n",
       "        vertical-align: middle;\n",
       "    }\n",
       "\n",
       "    .dataframe tbody tr th {\n",
       "        vertical-align: top;\n",
       "    }\n",
       "\n",
       "    .dataframe thead th {\n",
       "        text-align: right;\n",
       "    }\n",
       "</style>\n",
       "<table border=\"1\" class=\"dataframe\">\n",
       "  <thead>\n",
       "    <tr style=\"text-align: right;\">\n",
       "      <th></th>\n",
       "      <th>Social_3</th>\n",
       "    </tr>\n",
       "    <tr>\n",
       "      <th>DistrictId</th>\n",
       "      <th></th>\n",
       "    </tr>\n",
       "  </thead>\n",
       "  <tbody>\n",
       "    <tr>\n",
       "      <th>4</th>\n",
       "      <td>2</td>\n",
       "    </tr>\n",
       "    <tr>\n",
       "      <th>30</th>\n",
       "      <td>228</td>\n",
       "    </tr>\n",
       "    <tr>\n",
       "      <th>43</th>\n",
       "      <td>5</td>\n",
       "    </tr>\n",
       "    <tr>\n",
       "      <th>104</th>\n",
       "      <td>4</td>\n",
       "    </tr>\n",
       "    <tr>\n",
       "      <th>174</th>\n",
       "      <td>1</td>\n",
       "    </tr>\n",
       "    <tr>\n",
       "      <th>189</th>\n",
       "      <td>5</td>\n",
       "    </tr>\n",
       "  </tbody>\n",
       "</table>\n",
       "</div>"
      ],
      "text/plain": [
       "            Social_3\n",
       "DistrictId          \n",
       "4                  2\n",
       "30               228\n",
       "43                 5\n",
       "104                4\n",
       "174                1\n",
       "189                5"
      ]
     },
     "execution_count": 51,
     "metadata": {},
     "output_type": "execute_result"
    }
   ],
   "source": [
    "data_train.loc[\n",
    "               (data_train['Social_3'] == 141) & (data_train['Social_2'] == 6398) & (data_train['Social_1'] == 22), \n",
    "               ['DistrictId', 'Social_3']\n",
    "               ].groupby(by='DistrictId').count()"
   ]
  },
  {
   "cell_type": "markdown",
   "id": "jQLN0yu6v-fn",
   "metadata": {
    "id": "jQLN0yu6v-fn"
   },
   "source": [
    "Наблюдаем ряд квартир в одних и тех же районах (4, 30, 43, 104, 174, 189) с неизменными признаками *Social_1*, *Social_2*, *Social_3*. Так как значения признаков *Social_1* и *Social_2* по величине не походят на выбросы, обработаем только выбросы значения признака *Social_3*, заменив их медианой."
   ]
  },
  {
   "cell_type": "code",
   "execution_count": 52,
   "id": "7cvM8vL3ytB6",
   "metadata": {
    "id": "7cvM8vL3ytB6"
   },
   "outputs": [],
   "source": [
    "social_3_median = int(data_train['Social_3'].median())\n",
    "for df in [data_train, data_test]:\n",
    "    df.loc[df['Social_3'] == 141, ['Social_3']] = social_3_median"
   ]
  },
  {
   "cell_type": "code",
   "execution_count": 53,
   "id": "JwLhTXyeeezy",
   "metadata": {
    "colab": {
     "base_uri": "https://localhost:8080/",
     "height": 281
    },
    "id": "JwLhTXyeeezy",
    "outputId": "c590fa0d-e12f-4393-a174-d77660e16cac"
   },
   "outputs": [
    {
     "data": {
      "image/png": "[encoded data removed]",
      "text/plain": [
       "<Figure size 1080x288 with 3 Axes>"
      ]
     },
     "metadata": {
      "needs_background": "light"
     },
     "output_type": "display_data"
    }
   ],
   "source": [
    "get_hist(data_train, ['Social_1', 'Social_2', 'Social_3'], bins=60)"
   ]
  },
  {
   "cell_type": "markdown",
   "id": "8FTiXfuoB9D5",
   "metadata": {
    "id": "8FTiXfuoB9D5"
   },
   "source": [
    "**Обработка признаков *Healthcare_1*, *Helthcare_2* и *Shops_1*.**"
   ]
  },
  {
   "cell_type": "code",
   "execution_count": 54,
   "id": "4B4KRfsuCKp0",
   "metadata": {
    "colab": {
     "base_uri": "https://localhost:8080/",
     "height": 300
    },
    "id": "4B4KRfsuCKp0",
    "outputId": "d2c958c2-6e5b-4b92-d207-cc17c074195e"
   },
   "outputs": [
    {
     "data": {
      "text/html": [
       "<div>\n",
       "<style scoped>\n",
       "    .dataframe tbody tr th:only-of-type {\n",
       "        vertical-align: middle;\n",
       "    }\n",
       "\n",
       "    .dataframe tbody tr th {\n",
       "        vertical-align: top;\n",
       "    }\n",
       "\n",
       "    .dataframe thead th {\n",
       "        text-align: right;\n",
       "    }\n",
       "</style>\n",
       "<table border=\"1\" class=\"dataframe\">\n",
       "  <thead>\n",
       "    <tr style=\"text-align: right;\">\n",
       "      <th></th>\n",
       "      <th>Healthcare_1</th>\n",
       "      <th>Helthcare_2</th>\n",
       "      <th>Shops_1</th>\n",
       "    </tr>\n",
       "  </thead>\n",
       "  <tbody>\n",
       "    <tr>\n",
       "      <th>count</th>\n",
       "      <td>5202.0</td>\n",
       "      <td>10000.000000</td>\n",
       "      <td>10000.000000</td>\n",
       "    </tr>\n",
       "    <tr>\n",
       "      <th>mean</th>\n",
       "      <td>inf</td>\n",
       "      <td>1.319500</td>\n",
       "      <td>4.231300</td>\n",
       "    </tr>\n",
       "    <tr>\n",
       "      <th>std</th>\n",
       "      <td>inf</td>\n",
       "      <td>1.493601</td>\n",
       "      <td>4.806341</td>\n",
       "    </tr>\n",
       "    <tr>\n",
       "      <th>min</th>\n",
       "      <td>0.0</td>\n",
       "      <td>0.000000</td>\n",
       "      <td>0.000000</td>\n",
       "    </tr>\n",
       "    <tr>\n",
       "      <th>25%</th>\n",
       "      <td>350.0</td>\n",
       "      <td>0.000000</td>\n",
       "      <td>1.000000</td>\n",
       "    </tr>\n",
       "    <tr>\n",
       "      <th>50%</th>\n",
       "      <td>900.0</td>\n",
       "      <td>1.000000</td>\n",
       "      <td>3.000000</td>\n",
       "    </tr>\n",
       "    <tr>\n",
       "      <th>75%</th>\n",
       "      <td>1548.0</td>\n",
       "      <td>2.000000</td>\n",
       "      <td>6.000000</td>\n",
       "    </tr>\n",
       "    <tr>\n",
       "      <th>max</th>\n",
       "      <td>4848.0</td>\n",
       "      <td>6.000000</td>\n",
       "      <td>23.000000</td>\n",
       "    </tr>\n",
       "  </tbody>\n",
       "</table>\n",
       "</div>"
      ],
      "text/plain": [
       "       Healthcare_1   Helthcare_2       Shops_1\n",
       "count        5202.0  10000.000000  10000.000000\n",
       "mean            inf      1.319500      4.231300\n",
       "std             inf      1.493601      4.806341\n",
       "min             0.0      0.000000      0.000000\n",
       "25%           350.0      0.000000      1.000000\n",
       "50%           900.0      1.000000      3.000000\n",
       "75%          1548.0      2.000000      6.000000\n",
       "max          4848.0      6.000000     23.000000"
      ]
     },
     "execution_count": 54,
     "metadata": {},
     "output_type": "execute_result"
    }
   ],
   "source": [
    "data_train[['Healthcare_1', 'Helthcare_2', 'Shops_1']].describe()"
   ]
  },
  {
   "cell_type": "code",
   "execution_count": 55,
   "id": "gSNto58PEB-T",
   "metadata": {
    "colab": {
     "base_uri": "https://localhost:8080/",
     "height": 281
    },
    "id": "gSNto58PEB-T",
    "outputId": "63060afb-312b-4b4b-eb50-3534e96c9abd"
   },
   "outputs": [
    {
     "data": {
      "image/png": "[encoded data removed]",
      "text/plain": [
       "<Figure size 1080x288 with 3 Axes>"
      ]
     },
     "metadata": {
      "needs_background": "light"
     },
     "output_type": "display_data"
    }
   ],
   "source": [
    "get_hist(data_train, ['Healthcare_1', 'Helthcare_2', 'Shops_1'], bins=60)"
   ]
  },
  {
   "cell_type": "markdown",
   "id": "rs5ABWu3aRon",
   "metadata": {
    "id": "rs5ABWu3aRon"
   },
   "source": [
    "По признакам *Healthcare_1* и *Helthcare_2* выбросы не наблюдаются, а по признаку *Shops_1* видим подозрительно большое количество квартир с максимальным значением для признака равным 23. Посмотрим детальнее на такие записи."
   ]
  },
  {
   "cell_type": "code",
   "execution_count": 56,
   "id": "qhQhnVXMZ_8t",
   "metadata": {
    "colab": {
     "base_uri": "https://localhost:8080/",
     "height": 269
    },
    "id": "qhQhnVXMZ_8t",
    "outputId": "415dd7a3-080c-46e8-a6aa-957e6c4ef7d8"
   },
   "outputs": [
    {
     "data": {
      "text/html": [
       "<div>\n",
       "<style scoped>\n",
       "    .dataframe tbody tr th:only-of-type {\n",
       "        vertical-align: middle;\n",
       "    }\n",
       "\n",
       "    .dataframe tbody tr th {\n",
       "        vertical-align: top;\n",
       "    }\n",
       "\n",
       "    .dataframe thead th {\n",
       "        text-align: right;\n",
       "    }\n",
       "</style>\n",
       "<table border=\"1\" class=\"dataframe\">\n",
       "  <thead>\n",
       "    <tr style=\"text-align: right;\">\n",
       "      <th></th>\n",
       "      <th>Shops_1</th>\n",
       "    </tr>\n",
       "    <tr>\n",
       "      <th>DistrictId</th>\n",
       "      <th></th>\n",
       "    </tr>\n",
       "  </thead>\n",
       "  <tbody>\n",
       "    <tr>\n",
       "      <th>4</th>\n",
       "      <td>2</td>\n",
       "    </tr>\n",
       "    <tr>\n",
       "      <th>30</th>\n",
       "      <td>228</td>\n",
       "    </tr>\n",
       "    <tr>\n",
       "      <th>43</th>\n",
       "      <td>5</td>\n",
       "    </tr>\n",
       "    <tr>\n",
       "      <th>104</th>\n",
       "      <td>4</td>\n",
       "    </tr>\n",
       "    <tr>\n",
       "      <th>174</th>\n",
       "      <td>1</td>\n",
       "    </tr>\n",
       "    <tr>\n",
       "      <th>189</th>\n",
       "      <td>5</td>\n",
       "    </tr>\n",
       "  </tbody>\n",
       "</table>\n",
       "</div>"
      ],
      "text/plain": [
       "            Shops_1\n",
       "DistrictId         \n",
       "4                 2\n",
       "30              228\n",
       "43                5\n",
       "104               4\n",
       "174               1\n",
       "189               5"
      ]
     },
     "execution_count": 56,
     "metadata": {},
     "output_type": "execute_result"
    }
   ],
   "source": [
    "data_train.loc[data_train['Shops_1'] == 23, ['DistrictId', 'Shops_1']].groupby(by='DistrictId').count()"
   ]
  },
  {
   "cell_type": "markdown",
   "id": "FpXzy3HAa6Yn",
   "metadata": {
    "id": "FpXzy3HAa6Yn"
   },
   "source": [
    "Обнаруживаем, что по количеству записей и номерам районов (4, 30, 43, 104, 174, 189) выбросы признака *Shops_1* совпадают с выбросами признака *Social_3*. Обработаем выбросы признака *Shops_1* аналогично - заменив их медианой."
   ]
  },
  {
   "cell_type": "code",
   "execution_count": 57,
   "id": "UDpOBWshcCgy",
   "metadata": {
    "id": "UDpOBWshcCgy"
   },
   "outputs": [],
   "source": [
    "shops_1_median = int(data_train['Shops_1'].median())\n",
    "for df in [data_train, data_test]:\n",
    "    df.loc[df['Shops_1'] == 23, ['Shops_1']] = social_3_median"
   ]
  },
  {
   "cell_type": "code",
   "execution_count": 58,
   "id": "nyTzaSXCcWN8",
   "metadata": {
    "colab": {
     "base_uri": "https://localhost:8080/",
     "height": 281
    },
    "id": "nyTzaSXCcWN8",
    "outputId": "ce123bcb-17f5-43d6-9b12-a4fea99e5253"
   },
   "outputs": [
    {
     "data": {
      "image/png": "[encoded data removed]",
      "text/plain": [
       "<Figure size 1080x288 with 3 Axes>"
      ]
     },
     "metadata": {
      "needs_background": "light"
     },
     "output_type": "display_data"
    }
   ],
   "source": [
    "get_hist(data_train, ['Healthcare_1', 'Helthcare_2', 'Shops_1'], bins=60)"
   ]
  },
  {
   "cell_type": "code",
   "execution_count": 59,
   "id": "AO1szg-PkEcc",
   "metadata": {
    "colab": {
     "base_uri": "https://localhost:8080/"
    },
    "id": "AO1szg-PkEcc",
    "outputId": "83201e00-089b-48ed-c9ca-c1f881244dc6"
   },
   "outputs": [
    {
     "name": "stdout",
     "output_type": "stream",
     "text": [
      "Количество пропущенных значений признака Healthcare_1 в тренировочном наборе равно 4798.\n",
      "Количество пропущенных значений признака Healthcare_1 в тестовом наборе равно 2377.\n"
     ]
    }
   ],
   "source": [
    "print(\n",
    "    \"Количество пропущенных значений признака Healthcare_1 в тренировочном наборе равно\",\n",
    "    f\"{len(data_train[data_train['Healthcare_1'].isna()])}.\"\n",
    "    )\n",
    "print(\n",
    "    \"Количество пропущенных значений признака Healthcare_1 в тестовом наборе равно\",\n",
    "    f\"{len(data_test[data_test['Healthcare_1'].isna()])}.\"\n",
    "    )"
   ]
  },
  {
   "cell_type": "markdown",
   "id": "GHG6O6yCmW19",
   "metadata": {
    "id": "GHG6O6yCmW19"
   },
   "source": [
    "Данные по признаку *Healthcare_1* имеют пропущенные значения. Заполним их медианными значениями данного признака, согласно номеру района."
   ]
  },
  {
   "cell_type": "code",
   "execution_count": 60,
   "id": "iD9rnPYls5b7",
   "metadata": {
    "id": "iD9rnPYls5b7"
   },
   "outputs": [],
   "source": [
    "for df in [data_train, data_test]:\n",
    "    healthcare_1_condition = df['Healthcare_1'].isna()\n",
    "    set_num_feature_by_median(df, 'Healthcare_1', healthcare_1_condition, group_feature='DistrictId')\n",
    "    # так как по некоторым районам значений признака не было совсем,\n",
    "    # отсутствующие значения заменяем медианой по признаку в целом\n",
    "    set_num_feature_by_median(df, 'Healthcare_1', healthcare_1_condition)"
   ]
  },
  {
   "cell_type": "code",
   "execution_count": 61,
   "id": "D4pA9R3JuzGF",
   "metadata": {
    "colab": {
     "base_uri": "https://localhost:8080/"
    },
    "id": "D4pA9R3JuzGF",
    "outputId": "4a2bb95f-997e-42bb-9ca0-218b95d3d22c"
   },
   "outputs": [
    {
     "name": "stdout",
     "output_type": "stream",
     "text": [
      "Количество пропущенных значений признака Healthcare_1 в тренировочном наборе равно 0.\n",
      "Количество пропущенных значений признака Healthcare_1 в тестовом наборе равно 0.\n"
     ]
    }
   ],
   "source": [
    "print(\n",
    "    \"Количество пропущенных значений признака Healthcare_1 в тренировочном наборе равно\",\n",
    "    f\"{len(data_train[data_train['Healthcare_1'].isna()])}.\"\n",
    "    )\n",
    "print(\n",
    "    \"Количество пропущенных значений признака Healthcare_1 в тестовом наборе равно\",\n",
    "    f\"{len(data_test[data_test['Healthcare_1'].isna()])}.\"\n",
    "    )"
   ]
  },
  {
   "cell_type": "code",
   "execution_count": 62,
   "id": "13vMsO9hu83b",
   "metadata": {
    "colab": {
     "base_uri": "https://localhost:8080/",
     "height": 281
    },
    "id": "13vMsO9hu83b",
    "outputId": "ea2833b0-46e8-4444-a657-1df53b1672ad"
   },
   "outputs": [
    {
     "data": {
      "image/png": "[encoded data removed]",
      "text/plain": [
       "<Figure size 1080x288 with 3 Axes>"
      ]
     },
     "metadata": {
      "needs_background": "light"
     },
     "output_type": "display_data"
    }
   ],
   "source": [
    "get_hist(data_train, ['Healthcare_1', 'Helthcare_2', 'Shops_1'], bins=60)"
   ]
  },
  {
   "cell_type": "markdown",
   "id": "oR1ZF4WiwnDc",
   "metadata": {
    "id": "oR1ZF4WiwnDc"
   },
   "source": [
    "**Обработка признаков *Ecology_2*, *Ecology_3* и *Shops_2*.**"
   ]
  },
  {
   "cell_type": "code",
   "execution_count": 63,
   "id": "6GpxNXxzwuZq",
   "metadata": {
    "colab": {
     "base_uri": "https://localhost:8080/",
     "height": 175
    },
    "id": "6GpxNXxzwuZq",
    "outputId": "34d91802-d638-40d5-f0c0-b5fa1683dcc5"
   },
   "outputs": [
    {
     "data": {
      "text/html": [
       "<div>\n",
       "<style scoped>\n",
       "    .dataframe tbody tr th:only-of-type {\n",
       "        vertical-align: middle;\n",
       "    }\n",
       "\n",
       "    .dataframe tbody tr th {\n",
       "        vertical-align: top;\n",
       "    }\n",
       "\n",
       "    .dataframe thead th {\n",
       "        text-align: right;\n",
       "    }\n",
       "</style>\n",
       "<table border=\"1\" class=\"dataframe\">\n",
       "  <thead>\n",
       "    <tr style=\"text-align: right;\">\n",
       "      <th></th>\n",
       "      <th>Ecology_2</th>\n",
       "      <th>Ecology_3</th>\n",
       "      <th>Shops_2</th>\n",
       "    </tr>\n",
       "  </thead>\n",
       "  <tbody>\n",
       "    <tr>\n",
       "      <th>count</th>\n",
       "      <td>10000</td>\n",
       "      <td>10000</td>\n",
       "      <td>10000</td>\n",
       "    </tr>\n",
       "    <tr>\n",
       "      <th>unique</th>\n",
       "      <td>2</td>\n",
       "      <td>2</td>\n",
       "      <td>2</td>\n",
       "    </tr>\n",
       "    <tr>\n",
       "      <th>top</th>\n",
       "      <td>B</td>\n",
       "      <td>B</td>\n",
       "      <td>B</td>\n",
       "    </tr>\n",
       "    <tr>\n",
       "      <th>freq</th>\n",
       "      <td>9903</td>\n",
       "      <td>9725</td>\n",
       "      <td>9175</td>\n",
       "    </tr>\n",
       "  </tbody>\n",
       "</table>\n",
       "</div>"
      ],
      "text/plain": [
       "       Ecology_2 Ecology_3 Shops_2\n",
       "count      10000     10000   10000\n",
       "unique         2         2       2\n",
       "top            B         B       B\n",
       "freq        9903      9725    9175"
      ]
     },
     "execution_count": 63,
     "metadata": {},
     "output_type": "execute_result"
    }
   ],
   "source": [
    "data_train[['Ecology_2', 'Ecology_3', 'Shops_2']].describe()"
   ]
  },
  {
   "cell_type": "markdown",
   "id": "SbOfhyaBw6Sr",
   "metadata": {
    "id": "SbOfhyaBw6Sr"
   },
   "source": [
    "Каждый из трех признаков содержит всего 2 уникальных значения - ***A*** и ***B***, при чем значение ***В*** во всех признаках превалирует. Сделаем замену: ***B*** заменим на нуль, ***A*** - на единицу."
   ]
  },
  {
   "cell_type": "code",
   "execution_count": 64,
   "id": "UshjiohcywpX",
   "metadata": {
    "id": "UshjiohcywpX"
   },
   "outputs": [],
   "source": [
    "for df in [data_train, data_test]:\n",
    "    for f in ['Ecology_2', 'Ecology_3', 'Shops_2']:\n",
    "        df.replace({f: {'A': 1, 'B': 0}}, inplace=True)\n",
    "        df[f] = df[f].astype(np.uint8)"
   ]
  },
  {
   "cell_type": "code",
   "execution_count": 65,
   "id": "Zibu6dpI_F4X",
   "metadata": {
    "colab": {
     "base_uri": "https://localhost:8080/",
     "height": 300
    },
    "id": "Zibu6dpI_F4X",
    "outputId": "ed9caff3-3f3b-4017-bb67-9ab7a13a9094"
   },
   "outputs": [
    {
     "data": {
      "text/html": [
       "<div>\n",
       "<style scoped>\n",
       "    .dataframe tbody tr th:only-of-type {\n",
       "        vertical-align: middle;\n",
       "    }\n",
       "\n",
       "    .dataframe tbody tr th {\n",
       "        vertical-align: top;\n",
       "    }\n",
       "\n",
       "    .dataframe thead th {\n",
       "        text-align: right;\n",
       "    }\n",
       "</style>\n",
       "<table border=\"1\" class=\"dataframe\">\n",
       "  <thead>\n",
       "    <tr style=\"text-align: right;\">\n",
       "      <th></th>\n",
       "      <th>Ecology_2</th>\n",
       "      <th>Ecology_3</th>\n",
       "      <th>Shops_2</th>\n",
       "    </tr>\n",
       "  </thead>\n",
       "  <tbody>\n",
       "    <tr>\n",
       "      <th>count</th>\n",
       "      <td>10000.000000</td>\n",
       "      <td>10000.000000</td>\n",
       "      <td>10000.000000</td>\n",
       "    </tr>\n",
       "    <tr>\n",
       "      <th>mean</th>\n",
       "      <td>0.009700</td>\n",
       "      <td>0.027500</td>\n",
       "      <td>0.082500</td>\n",
       "    </tr>\n",
       "    <tr>\n",
       "      <th>std</th>\n",
       "      <td>0.098015</td>\n",
       "      <td>0.163543</td>\n",
       "      <td>0.275139</td>\n",
       "    </tr>\n",
       "    <tr>\n",
       "      <th>min</th>\n",
       "      <td>0.000000</td>\n",
       "      <td>0.000000</td>\n",
       "      <td>0.000000</td>\n",
       "    </tr>\n",
       "    <tr>\n",
       "      <th>25%</th>\n",
       "      <td>0.000000</td>\n",
       "      <td>0.000000</td>\n",
       "      <td>0.000000</td>\n",
       "    </tr>\n",
       "    <tr>\n",
       "      <th>50%</th>\n",
       "      <td>0.000000</td>\n",
       "      <td>0.000000</td>\n",
       "      <td>0.000000</td>\n",
       "    </tr>\n",
       "    <tr>\n",
       "      <th>75%</th>\n",
       "      <td>0.000000</td>\n",
       "      <td>0.000000</td>\n",
       "      <td>0.000000</td>\n",
       "    </tr>\n",
       "    <tr>\n",
       "      <th>max</th>\n",
       "      <td>1.000000</td>\n",
       "      <td>1.000000</td>\n",
       "      <td>1.000000</td>\n",
       "    </tr>\n",
       "  </tbody>\n",
       "</table>\n",
       "</div>"
      ],
      "text/plain": [
       "          Ecology_2     Ecology_3       Shops_2\n",
       "count  10000.000000  10000.000000  10000.000000\n",
       "mean       0.009700      0.027500      0.082500\n",
       "std        0.098015      0.163543      0.275139\n",
       "min        0.000000      0.000000      0.000000\n",
       "25%        0.000000      0.000000      0.000000\n",
       "50%        0.000000      0.000000      0.000000\n",
       "75%        0.000000      0.000000      0.000000\n",
       "max        1.000000      1.000000      1.000000"
      ]
     },
     "execution_count": 65,
     "metadata": {},
     "output_type": "execute_result"
    }
   ],
   "source": [
    "data_train[['Ecology_2', 'Ecology_3', 'Shops_2']].describe()"
   ]
  },
  {
   "cell_type": "markdown",
   "id": "JeRzA2JVPt4l",
   "metadata": {
    "id": "JeRzA2JVPt4l"
   },
   "source": [
    "**Целевая переменная *Price*.**"
   ]
  },
  {
   "cell_type": "code",
   "execution_count": 66,
   "id": "q6UWetdTP85P",
   "metadata": {
    "colab": {
     "base_uri": "https://localhost:8080/"
    },
    "id": "q6UWetdTP85P",
    "outputId": "f2c18a40-c62d-448f-9df6-dd8e2a7209ff"
   },
   "outputs": [
    {
     "data": {
      "text/plain": [
       "count     10000.000000\n",
       "mean     214138.937500\n",
       "std       92872.273438\n",
       "min       59174.777344\n",
       "25%      153872.628906\n",
       "50%      192269.648438\n",
       "75%      249135.460938\n",
       "max      633233.437500\n",
       "Name: Price, dtype: float64"
      ]
     },
     "execution_count": 66,
     "metadata": {},
     "output_type": "execute_result"
    }
   ],
   "source": [
    "data_train['Price'].describe()"
   ]
  },
  {
   "cell_type": "code",
   "execution_count": 67,
   "id": "ohlXxgH6P3eJ",
   "metadata": {
    "colab": {
     "base_uri": "https://localhost:8080/",
     "height": 281
    },
    "id": "ohlXxgH6P3eJ",
    "outputId": "4ac07e9f-5a01-47ad-d0be-744bb8dafe07"
   },
   "outputs": [
    {
     "data": {
      "image/png": "[encoded data removed]",
      "text/plain": [
       "<Figure size 360x288 with 1 Axes>"
      ]
     },
     "metadata": {
      "needs_background": "light"
     },
     "output_type": "display_data"
    }
   ],
   "source": [
    "get_hist(data_train, ['Price'], bins=30)"
   ]
  },
  {
   "cell_type": "markdown",
   "id": "-dR5hp-CQCbX",
   "metadata": {
    "id": "-dR5hp-CQCbX"
   },
   "source": [
    "Как видим, выбросов целевая переменная не имеет - какой-либо обработки не требует."
   ]
  },
  {
   "cell_type": "markdown",
   "id": "1olDGLPz_ant",
   "metadata": {
    "id": "1olDGLPz_ant"
   },
   "source": [
    "## **3. Создание новых признаков.**"
   ]
  },
  {
   "cell_type": "markdown",
   "id": "hCkZeIbw_qmX",
   "metadata": {
    "id": "hCkZeIbw_qmX"
   },
   "source": [
    "Признак *DistrictId* описывается в числовом формате, по факту же является категориальным. Создадим на его основе новый признак *DistrictWeight*, который будет отражать долю квартир из этого района в тренировочном наборе."
   ]
  },
  {
   "cell_type": "code",
   "execution_count": 68,
   "id": "OwFDn-3IAf8f",
   "metadata": {
    "colab": {
     "base_uri": "https://localhost:8080/",
     "height": 395
    },
    "id": "OwFDn-3IAf8f",
    "outputId": "4a0d5aa1-103e-41eb-ef34-da8fa3bb2832"
   },
   "outputs": [
    {
     "data": {
      "text/html": [
       "<div>\n",
       "<style scoped>\n",
       "    .dataframe tbody tr th:only-of-type {\n",
       "        vertical-align: middle;\n",
       "    }\n",
       "\n",
       "    .dataframe tbody tr th {\n",
       "        vertical-align: top;\n",
       "    }\n",
       "\n",
       "    .dataframe thead th {\n",
       "        text-align: right;\n",
       "    }\n",
       "</style>\n",
       "<table border=\"1\" class=\"dataframe\">\n",
       "  <thead>\n",
       "    <tr style=\"text-align: right;\">\n",
       "      <th></th>\n",
       "      <th>Id</th>\n",
       "    </tr>\n",
       "    <tr>\n",
       "      <th>DistrictId</th>\n",
       "      <th></th>\n",
       "    </tr>\n",
       "  </thead>\n",
       "  <tbody>\n",
       "    <tr>\n",
       "      <th>0</th>\n",
       "      <td>0.0048</td>\n",
       "    </tr>\n",
       "    <tr>\n",
       "      <th>1</th>\n",
       "      <td>0.0652</td>\n",
       "    </tr>\n",
       "    <tr>\n",
       "      <th>2</th>\n",
       "      <td>0.0078</td>\n",
       "    </tr>\n",
       "    <tr>\n",
       "      <th>3</th>\n",
       "      <td>0.0082</td>\n",
       "    </tr>\n",
       "    <tr>\n",
       "      <th>4</th>\n",
       "      <td>0.0011</td>\n",
       "    </tr>\n",
       "    <tr>\n",
       "      <th>5</th>\n",
       "      <td>0.0034</td>\n",
       "    </tr>\n",
       "    <tr>\n",
       "      <th>6</th>\n",
       "      <td>0.0511</td>\n",
       "    </tr>\n",
       "    <tr>\n",
       "      <th>7</th>\n",
       "      <td>0.0092</td>\n",
       "    </tr>\n",
       "    <tr>\n",
       "      <th>8</th>\n",
       "      <td>0.0142</td>\n",
       "    </tr>\n",
       "    <tr>\n",
       "      <th>9</th>\n",
       "      <td>0.0294</td>\n",
       "    </tr>\n",
       "  </tbody>\n",
       "</table>\n",
       "</div>"
      ],
      "text/plain": [
       "                Id\n",
       "DistrictId        \n",
       "0           0.0048\n",
       "1           0.0652\n",
       "2           0.0078\n",
       "3           0.0082\n",
       "4           0.0011\n",
       "5           0.0034\n",
       "6           0.0511\n",
       "7           0.0092\n",
       "8           0.0142\n",
       "9           0.0294"
      ]
     },
     "execution_count": 68,
     "metadata": {},
     "output_type": "execute_result"
    }
   ],
   "source": [
    "dw = data_train[['Id', 'DistrictId']].groupby(by='DistrictId').count() / data_train.shape[0]\n",
    "dw.head(10)\n"
   ]
  },
  {
   "cell_type": "code",
   "execution_count": 69,
   "id": "l0OxV8bgBi8q",
   "metadata": {
    "id": "l0OxV8bgBi8q"
   },
   "outputs": [],
   "source": [
    "for df in [data_train, data_test]:\n",
    "    df['DistrictWeight'] = 0\n",
    "    for i in dw.index:\n",
    "        df.loc[df['DistrictId'] == i, 'DistrictWeight'] = dw.loc[i, 'Id']\n",
    "    df['DistrictWeight'] = df['DistrictWeight'].astype(np.float16)"
   ]
  },
  {
   "cell_type": "markdown",
   "id": "g7PrF6VRK2JU",
   "metadata": {
    "id": "g7PrF6VRK2JU"
   },
   "source": [
    "Используем целевую переменную *Price* для создания нового признака. Исходя из принадлежности к району, рассчитаем среднюю стоимость квадратного метра жилья для квартир с разным количеством комнат."
   ]
  },
  {
   "cell_type": "code",
   "execution_count": 70,
   "id": "B4axl_iaM4r2",
   "metadata": {
    "colab": {
     "base_uri": "https://localhost:8080/",
     "height": 237
    },
    "id": "B4axl_iaM4r2",
    "outputId": "400d913c-feb6-47fd-9b76-4f4776cd35a0"
   },
   "outputs": [
    {
     "data": {
      "text/html": [
       "<div>\n",
       "<style scoped>\n",
       "    .dataframe tbody tr th:only-of-type {\n",
       "        vertical-align: middle;\n",
       "    }\n",
       "\n",
       "    .dataframe tbody tr th {\n",
       "        vertical-align: top;\n",
       "    }\n",
       "\n",
       "    .dataframe thead th {\n",
       "        text-align: right;\n",
       "    }\n",
       "</style>\n",
       "<table border=\"1\" class=\"dataframe\">\n",
       "  <thead>\n",
       "    <tr style=\"text-align: right;\">\n",
       "      <th></th>\n",
       "      <th>DistrictId</th>\n",
       "      <th>Rooms</th>\n",
       "      <th>PricePerMeter</th>\n",
       "    </tr>\n",
       "  </thead>\n",
       "  <tbody>\n",
       "    <tr>\n",
       "      <th>0</th>\n",
       "      <td>0</td>\n",
       "      <td>1</td>\n",
       "      <td>3539.993652</td>\n",
       "    </tr>\n",
       "    <tr>\n",
       "      <th>1</th>\n",
       "      <td>0</td>\n",
       "      <td>2</td>\n",
       "      <td>3520.887451</td>\n",
       "    </tr>\n",
       "    <tr>\n",
       "      <th>2</th>\n",
       "      <td>0</td>\n",
       "      <td>3</td>\n",
       "      <td>3769.151367</td>\n",
       "    </tr>\n",
       "    <tr>\n",
       "      <th>3</th>\n",
       "      <td>1</td>\n",
       "      <td>1</td>\n",
       "      <td>3373.685059</td>\n",
       "    </tr>\n",
       "    <tr>\n",
       "      <th>4</th>\n",
       "      <td>1</td>\n",
       "      <td>2</td>\n",
       "      <td>3165.623779</td>\n",
       "    </tr>\n",
       "    <tr>\n",
       "      <th>5</th>\n",
       "      <td>1</td>\n",
       "      <td>3</td>\n",
       "      <td>2978.236328</td>\n",
       "    </tr>\n",
       "    <tr>\n",
       "      <th>6</th>\n",
       "      <td>1</td>\n",
       "      <td>4</td>\n",
       "      <td>2776.377686</td>\n",
       "    </tr>\n",
       "    <tr>\n",
       "      <th>7</th>\n",
       "      <td>2</td>\n",
       "      <td>1</td>\n",
       "      <td>4716.640137</td>\n",
       "    </tr>\n",
       "    <tr>\n",
       "      <th>8</th>\n",
       "      <td>2</td>\n",
       "      <td>2</td>\n",
       "      <td>4490.625977</td>\n",
       "    </tr>\n",
       "    <tr>\n",
       "      <th>9</th>\n",
       "      <td>2</td>\n",
       "      <td>3</td>\n",
       "      <td>4516.192871</td>\n",
       "    </tr>\n",
       "    <tr>\n",
       "      <th>10</th>\n",
       "      <td>2</td>\n",
       "      <td>4</td>\n",
       "      <td>4325.522949</td>\n",
       "    </tr>\n",
       "  </tbody>\n",
       "</table>\n",
       "</div>"
      ],
      "text/plain": [
       "    DistrictId  Rooms  PricePerMeter\n",
       "0            0      1    3539.993652\n",
       "1            0      2    3520.887451\n",
       "2            0      3    3769.151367\n",
       "3            1      1    3373.685059\n",
       "4            1      2    3165.623779\n",
       "5            1      3    2978.236328\n",
       "6            1      4    2776.377686\n",
       "7            2      1    4716.640137\n",
       "8            2      2    4490.625977\n",
       "9            2      3    4516.192871\n",
       "10           2      4    4325.522949"
      ]
     },
     "execution_count": 70,
     "metadata": {},
     "output_type": "execute_result"
    }
   ],
   "source": [
    "mean_price_per_meter = data_train.groupby(['DistrictId', 'Rooms'], as_index=False)\\\n",
    "    .agg({'Price':'sum', 'Square': 'sum'})\\\n",
    "    .rename(columns={'Price':'SumPriceByDistrict', 'Square':'SumSquareByDistrict'})\n",
    "\n",
    "mean_price_per_meter['PricePerMeter'] = mean_price_per_meter['SumPriceByDistrict'] /\\\n",
    "    mean_price_per_meter['SumSquareByDistrict']\n",
    "\n",
    "mean_price_per_meter.drop(['SumPriceByDistrict', 'SumSquareByDistrict'], axis=1, inplace=True)\n",
    "mean_price_per_meter.head(11)"
   ]
  },
  {
   "cell_type": "markdown",
   "id": "theoretical-civilization",
   "metadata": {},
   "source": [
    "Как и предполагалось, самый дорогой квадратный метр в большинстве случаев у однокомнатных квартир."
   ]
  },
  {
   "cell_type": "code",
   "execution_count": 71,
   "id": "assured-suffering",
   "metadata": {},
   "outputs": [
    {
     "data": {
      "text/html": [
       "<div>\n",
       "<style scoped>\n",
       "    .dataframe tbody tr th:only-of-type {\n",
       "        vertical-align: middle;\n",
       "    }\n",
       "\n",
       "    .dataframe tbody tr th {\n",
       "        vertical-align: top;\n",
       "    }\n",
       "\n",
       "    .dataframe thead th {\n",
       "        text-align: right;\n",
       "    }\n",
       "</style>\n",
       "<table border=\"1\" class=\"dataframe\">\n",
       "  <thead>\n",
       "    <tr style=\"text-align: right;\">\n",
       "      <th></th>\n",
       "      <th>DistrictId</th>\n",
       "      <th>Rooms</th>\n",
       "      <th>PricePerMeter</th>\n",
       "    </tr>\n",
       "  </thead>\n",
       "  <tbody>\n",
       "    <tr>\n",
       "      <th>0</th>\n",
       "      <td>27</td>\n",
       "      <td>3</td>\n",
       "      <td>2690.788818</td>\n",
       "    </tr>\n",
       "    <tr>\n",
       "      <th>1</th>\n",
       "      <td>22</td>\n",
       "      <td>1</td>\n",
       "      <td>4008.222656</td>\n",
       "    </tr>\n",
       "    <tr>\n",
       "      <th>2</th>\n",
       "      <td>1</td>\n",
       "      <td>3</td>\n",
       "      <td>2978.236328</td>\n",
       "    </tr>\n",
       "    <tr>\n",
       "      <th>3</th>\n",
       "      <td>1</td>\n",
       "      <td>1</td>\n",
       "      <td>3373.685059</td>\n",
       "    </tr>\n",
       "    <tr>\n",
       "      <th>4</th>\n",
       "      <td>94</td>\n",
       "      <td>2</td>\n",
       "      <td>4146.534668</td>\n",
       "    </tr>\n",
       "    <tr>\n",
       "      <th>5</th>\n",
       "      <td>99</td>\n",
       "      <td>3</td>\n",
       "      <td>3617.914795</td>\n",
       "    </tr>\n",
       "    <tr>\n",
       "      <th>6</th>\n",
       "      <td>44</td>\n",
       "      <td>1</td>\n",
       "      <td>4831.736816</td>\n",
       "    </tr>\n",
       "    <tr>\n",
       "      <th>7</th>\n",
       "      <td>59</td>\n",
       "      <td>2</td>\n",
       "      <td>4998.172852</td>\n",
       "    </tr>\n",
       "    <tr>\n",
       "      <th>8</th>\n",
       "      <td>1</td>\n",
       "      <td>1</td>\n",
       "      <td>3373.685059</td>\n",
       "    </tr>\n",
       "    <tr>\n",
       "      <th>9</th>\n",
       "      <td>6</td>\n",
       "      <td>3</td>\n",
       "      <td>2670.641846</td>\n",
       "    </tr>\n",
       "  </tbody>\n",
       "</table>\n",
       "</div>"
      ],
      "text/plain": [
       "   DistrictId  Rooms  PricePerMeter\n",
       "0          27      3    2690.788818\n",
       "1          22      1    4008.222656\n",
       "2           1      3    2978.236328\n",
       "3           1      1    3373.685059\n",
       "4          94      2    4146.534668\n",
       "5          99      3    3617.914795\n",
       "6          44      1    4831.736816\n",
       "7          59      2    4998.172852\n",
       "8           1      1    3373.685059\n",
       "9           6      3    2670.641846"
      ]
     },
     "execution_count": 71,
     "metadata": {},
     "output_type": "execute_result"
    }
   ],
   "source": [
    "data_train = data_train.merge(mean_price_per_meter, on=['DistrictId', 'Rooms'], how='left')\n",
    "data_train[['DistrictId', 'Rooms', 'PricePerMeter']].head(10)"
   ]
  },
  {
   "cell_type": "code",
   "execution_count": 72,
   "id": "aggressive-dylan",
   "metadata": {},
   "outputs": [
    {
     "data": {
      "text/html": [
       "<div>\n",
       "<style scoped>\n",
       "    .dataframe tbody tr th:only-of-type {\n",
       "        vertical-align: middle;\n",
       "    }\n",
       "\n",
       "    .dataframe tbody tr th {\n",
       "        vertical-align: top;\n",
       "    }\n",
       "\n",
       "    .dataframe thead th {\n",
       "        text-align: right;\n",
       "    }\n",
       "</style>\n",
       "<table border=\"1\" class=\"dataframe\">\n",
       "  <thead>\n",
       "    <tr style=\"text-align: right;\">\n",
       "      <th></th>\n",
       "      <th>DistrictId</th>\n",
       "      <th>Rooms</th>\n",
       "      <th>PricePerMeter</th>\n",
       "    </tr>\n",
       "  </thead>\n",
       "  <tbody>\n",
       "    <tr>\n",
       "      <th>0</th>\n",
       "      <td>44</td>\n",
       "      <td>1</td>\n",
       "      <td>4831.736816</td>\n",
       "    </tr>\n",
       "    <tr>\n",
       "      <th>1</th>\n",
       "      <td>62</td>\n",
       "      <td>1</td>\n",
       "      <td>2904.845947</td>\n",
       "    </tr>\n",
       "    <tr>\n",
       "      <th>2</th>\n",
       "      <td>27</td>\n",
       "      <td>2</td>\n",
       "      <td>2619.072510</td>\n",
       "    </tr>\n",
       "    <tr>\n",
       "      <th>3</th>\n",
       "      <td>23</td>\n",
       "      <td>3</td>\n",
       "      <td>2135.302002</td>\n",
       "    </tr>\n",
       "    <tr>\n",
       "      <th>4</th>\n",
       "      <td>74</td>\n",
       "      <td>1</td>\n",
       "      <td>3413.357178</td>\n",
       "    </tr>\n",
       "    <tr>\n",
       "      <th>5</th>\n",
       "      <td>38</td>\n",
       "      <td>3</td>\n",
       "      <td>4217.625977</td>\n",
       "    </tr>\n",
       "    <tr>\n",
       "      <th>6</th>\n",
       "      <td>62</td>\n",
       "      <td>1</td>\n",
       "      <td>2904.845947</td>\n",
       "    </tr>\n",
       "    <tr>\n",
       "      <th>7</th>\n",
       "      <td>2</td>\n",
       "      <td>2</td>\n",
       "      <td>4490.625977</td>\n",
       "    </tr>\n",
       "    <tr>\n",
       "      <th>8</th>\n",
       "      <td>1</td>\n",
       "      <td>1</td>\n",
       "      <td>3373.685059</td>\n",
       "    </tr>\n",
       "    <tr>\n",
       "      <th>9</th>\n",
       "      <td>62</td>\n",
       "      <td>2</td>\n",
       "      <td>2694.001709</td>\n",
       "    </tr>\n",
       "  </tbody>\n",
       "</table>\n",
       "</div>"
      ],
      "text/plain": [
       "   DistrictId  Rooms  PricePerMeter\n",
       "0          44      1    4831.736816\n",
       "1          62      1    2904.845947\n",
       "2          27      2    2619.072510\n",
       "3          23      3    2135.302002\n",
       "4          74      1    3413.357178\n",
       "5          38      3    4217.625977\n",
       "6          62      1    2904.845947\n",
       "7           2      2    4490.625977\n",
       "8           1      1    3373.685059\n",
       "9          62      2    2694.001709"
      ]
     },
     "execution_count": 72,
     "metadata": {},
     "output_type": "execute_result"
    }
   ],
   "source": [
    "data_test = data_test.merge(mean_price_per_meter, on=['DistrictId', 'Rooms'], how='left')\n",
    "data_test[['DistrictId', 'Rooms', 'PricePerMeter']].head(10)"
   ]
  },
  {
   "cell_type": "code",
   "execution_count": 73,
   "id": "eligible-jungle",
   "metadata": {},
   "outputs": [
    {
     "data": {
      "text/plain": [
       "count    4935.000000\n",
       "mean     3897.828857\n",
       "std       993.299072\n",
       "min      1070.798950\n",
       "25%      3092.023438\n",
       "50%      3999.341553\n",
       "75%      4543.317383\n",
       "max      8804.844727\n",
       "Name: PricePerMeter, dtype: float64"
      ]
     },
     "execution_count": 73,
     "metadata": {},
     "output_type": "execute_result"
    }
   ],
   "source": [
    "data_test['PricePerMeter'].describe()"
   ]
  },
  {
   "cell_type": "markdown",
   "id": "acceptable-command",
   "metadata": {},
   "source": [
    "Как видим, в тестовом наборе данных заполнены не все значения признака *PricePerMeter*. Применим функцию *set_num_feature_by_median* для заполнения данными пропущенных значений."
   ]
  },
  {
   "cell_type": "code",
   "execution_count": 74,
   "id": "raised-orleans",
   "metadata": {},
   "outputs": [],
   "source": [
    "for df in [data_train, data_test]:\n",
    "    condition = df['PricePerMeter'].isna()\n",
    "    set_num_feature_by_median(df, 'PricePerMeter', condition, group_feature='Rooms', target=target)"
   ]
  },
  {
   "cell_type": "markdown",
   "id": "periodic-thong",
   "metadata": {},
   "source": [
    "Посмотрим на корреляцию признаков с целевой переменной."
   ]
  },
  {
   "cell_type": "code",
   "execution_count": 75,
   "id": "COok_R97TWwV",
   "metadata": {
    "colab": {
     "base_uri": "https://localhost:8080/"
    },
    "id": "COok_R97TWwV",
    "outputId": "b74ccc56-0a9d-4457-c7df-4d576b29fc2e"
   },
   "outputs": [
    {
     "name": "stdout",
     "output_type": "stream",
     "text": [
      "Список признаков, корреляция которых с целевой переменной Price по абсолютному значению превышает 0.25:\n",
      "-> DistrictId\n",
      "-> Rooms\n",
      "-> Square\n",
      "-> LifeSquare\n",
      "-> KitchenSquare\n",
      "-> Social_1\n",
      "-> Social_3\n",
      "-> Helthcare_2\n",
      "-> Shops_1\n",
      "-> DistrictWeight\n",
      "-> PricePerMeter\n"
     ]
    }
   ],
   "source": [
    "corr = data_train.corr()\n",
    "high_corr = corr[(np.abs(corr[target]) > 0.25) & (corr.index != target)][target]\n",
    "print(\n",
    "    f'Список признаков, корреляция которых с целевой переменной {target} по абсолютному значению превышает 0.25:',\n",
    "    *high_corr.index, sep='\\n-> '\n",
    "    )"
   ]
  },
  {
   "cell_type": "markdown",
   "id": "nominated-tyler",
   "metadata": {},
   "source": [
    "Ожидаемо видим, что стоимость квартир зависит в большей степени от характеристик самой квартиры и показателей, указывающих наличие инфраструктуры, а также то, что новые признаки очень хорошо коррелируют с целевой переменной, ведь одна из них рассчитана на ее основании."
   ]
  },
  {
   "cell_type": "markdown",
   "id": "elect-essence",
   "metadata": {},
   "source": [
    "## **4. Построение предсказательной модели.**"
   ]
  },
  {
   "cell_type": "markdown",
   "id": "departmental-matthew",
   "metadata": {},
   "source": [
    "Для оценки предсказательной модели будем использовать функцию *evaluate_preds*."
   ]
  },
  {
   "cell_type": "code",
   "execution_count": 76,
   "id": "M6VykiBrMhG3",
   "metadata": {
    "id": "M6VykiBrMhG3"
   },
   "outputs": [],
   "source": [
    "def evaluate_preds(train_true_values, train_pred_values, test_true_values, test_pred_values):\n",
    "    \"\"\"\n",
    "    Outputs R2-score and plots to evaluate the quality of the model.\n",
    "    \"\"\"\n",
    "    print(\"Train R2:\\t\" + str(round(r2(train_true_values, train_pred_values), 3)))\n",
    "    print(\"Test R2:\\t\" + str(round(r2(test_true_values, test_pred_values), 3)))\n",
    "\n",
    "    plt.figure(figsize=(18,10))\n",
    "    plt.subplot(121)\n",
    "    sns.scatterplot(x=train_pred_values, y=train_true_values)\n",
    "    plt.xlabel('Predicted values')\n",
    "    plt.ylabel('True values')\n",
    "    plt.title('Train sample prediction')\n",
    "    \n",
    "    plt.subplot(122)\n",
    "    sns.scatterplot(x=test_pred_values, y=test_true_values)\n",
    "    plt.xlabel('Predicted values')\n",
    "    plt.ylabel('True values')\n",
    "    plt.title('Test sample prediction')\n",
    "\n",
    "    plt.show()"
   ]
  },
  {
   "cell_type": "code",
   "execution_count": 77,
   "id": "MS8UbqIyVDKn",
   "metadata": {
    "id": "MS8UbqIyVDKn"
   },
   "outputs": [],
   "source": [
    "y = data_train[target]\n",
    "X = data_train.drop(['Id', 'DistrictId', 'Price'], axis=1)\n",
    "X_train, X_test, y_train, y_test = train_test_split(\n",
    "    X, y, test_size=0.33, shuffle=True, random_state=42\n",
    "    )"
   ]
  },
  {
   "cell_type": "code",
   "execution_count": 78,
   "id": "thousand-somalia",
   "metadata": {},
   "outputs": [],
   "source": [
    "scaler = RobustScaler()\n",
    "X_train_scaled = scaler.fit_transform(X_train)\n",
    "X_test_scaled = scaler.transform(X_test)"
   ]
  },
  {
   "cell_type": "code",
   "execution_count": 79,
   "id": "hollow-zambia",
   "metadata": {},
   "outputs": [
    {
     "name": "stdout",
     "output_type": "stream",
     "text": [
      "Train R2:\t0.809\n",
      "Test R2:\t0.77\n"
     ]
    },
    {
     "data": {
      "image/png": "[encoded data removed]",
      "text/plain": [
       "<Figure size 1296x720 with 2 Axes>"
      ]
     },
     "metadata": {
      "needs_background": "light"
     },
     "output_type": "display_data"
    }
   ],
   "source": [
    "gb_model = GradientBoostingRegressor(\n",
    "    n_estimators=130, learning_rate=0.07, max_depth=4, random_state=42, loss='ls', min_samples_split=250,\n",
    "     min_samples_leaf=50\n",
    "    )\n",
    "gb_model.fit(X_train_scaled, y_train)\n",
    "y_train_preds = gb_model.predict(X_train_scaled)\n",
    "y_test_preds = gb_model.predict(X_test_scaled)\n",
    "\n",
    "evaluate_preds(y_train, y_train_preds, y_test, y_test_preds)"
   ]
  },
  {
   "cell_type": "code",
   "execution_count": 83,
   "id": "coastal-vegetation",
   "metadata": {},
   "outputs": [],
   "source": [
    "cv_score = cross_val_score(\n",
    "    gb_model,\n",
    "    X, y, scoring='r2',\n",
    "    cv=KFold(n_splits=5, shuffle=True, random_state=42)\n",
    ")"
   ]
  },
  {
   "cell_type": "code",
   "execution_count": 84,
   "id": "confidential-forward",
   "metadata": {},
   "outputs": [
    {
     "data": {
      "text/plain": [
       "0.7731951115453312"
      ]
     },
     "execution_count": 84,
     "metadata": {},
     "output_type": "execute_result"
    }
   ],
   "source": [
    "cv_score.mean()"
   ]
  },
  {
   "cell_type": "markdown",
   "id": "reasonable-theta",
   "metadata": {},
   "source": [
    "## **5. Предсказание на тестовом наборе данных и сохранение результата.**"
   ]
  },
  {
   "cell_type": "code",
   "execution_count": 82,
   "id": "optimum-cyprus",
   "metadata": {},
   "outputs": [],
   "source": [
    "test_df = data_test.drop(['Id', 'DistrictId'], axis=1)\n",
    "test_df_scaled = scaler.transform(test_df)\n",
    "\n",
    "y_test_df_scaled_preds = gb_model.predict(test_df_scaled)\n",
    "\n",
    "pred_df = pd.read_csv('sample_submission.csv')\n",
    "pred_df['Price'] = y_test_df_scaled_preds\n",
    "pred_df.to_csv(\"RMirskov_predictions.csv\", index=False)"
   ]
  },
  {
   "cell_type": "code",
   "execution_count": null,
   "id": "democratic-passing",
   "metadata": {},
   "outputs": [],
   "source": []
  }
 ],
 "metadata": {
  "colab": {
   "collapsed_sections": [],
   "name": "RMirskov_solution.ipynb",
   "provenance": []
  },
  "kernelspec": {
   "display_name": "Python 3",
   "language": "python",
   "name": "python3"
  },
  "language_info": {
   "codemirror_mode": {
    "name": "ipython",
    "version": 3
   },
   "file_extension": ".py",
   "mimetype": "text/x-python",
   "name": "python",
   "nbconvert_exporter": "python",
   "pygments_lexer": "ipython3",
   "version": "3.8.5"
  }
 },
 "nbformat": 4,
 "nbformat_minor": 5
}
